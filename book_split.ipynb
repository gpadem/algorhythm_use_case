{
  "nbformat": 4,
  "nbformat_minor": 0,
  "metadata": {
    "colab": {
      "name": "book_split.ipynb",
      "provenance": [],
      "authorship_tag": "ABX9TyMS8P0PnQwmwXorI+SUHCPh",
      "include_colab_link": true
    },
    "kernelspec": {
      "name": "python3710jvsc74a57bd0a07a110be21989b61b05477f787fb579ebcc87ca7c43be630f2855df00165e06",
      "display_name": "Python 3.7.10 64-bit ('pytorch': conda)"
    },
    "language_info": {
      "name": "python",
      "version": "3.7.10"
    },
    "accelerator": "GPU",
    "widgets": {
      "application/vnd.jupyter.widget-state+json": {
        "de286306f1f64607a30a6ba241aacf7f": {
          "model_module": "@jupyter-widgets/controls",
          "model_name": "HBoxModel",
          "state": {
            "_view_name": "HBoxView",
            "_dom_classes": [],
            "_model_name": "HBoxModel",
            "_view_module": "@jupyter-widgets/controls",
            "_model_module_version": "1.5.0",
            "_view_count": null,
            "_view_module_version": "1.5.0",
            "box_style": "",
            "layout": "IPY_MODEL_d38ff4c17fb443c4a6279aae654d02ac",
            "_model_module": "@jupyter-widgets/controls",
            "children": [
              "IPY_MODEL_6ea3f3dadcf44bc6b5b4f5b7d0da5a37",
              "IPY_MODEL_dd6b2f173d504c968be7966b57b4a717"
            ]
          }
        },
        "d38ff4c17fb443c4a6279aae654d02ac": {
          "model_module": "@jupyter-widgets/base",
          "model_name": "LayoutModel",
          "state": {
            "_view_name": "LayoutView",
            "grid_template_rows": null,
            "right": null,
            "justify_content": null,
            "_view_module": "@jupyter-widgets/base",
            "overflow": null,
            "_model_module_version": "1.2.0",
            "_view_count": null,
            "flex_flow": null,
            "width": null,
            "min_width": null,
            "border": null,
            "align_items": null,
            "bottom": null,
            "_model_module": "@jupyter-widgets/base",
            "top": null,
            "grid_column": null,
            "overflow_y": null,
            "overflow_x": null,
            "grid_auto_flow": null,
            "grid_area": null,
            "grid_template_columns": null,
            "flex": null,
            "_model_name": "LayoutModel",
            "justify_items": null,
            "grid_row": null,
            "max_height": null,
            "align_content": null,
            "visibility": null,
            "align_self": null,
            "height": null,
            "min_height": null,
            "padding": null,
            "grid_auto_rows": null,
            "grid_gap": null,
            "max_width": null,
            "order": null,
            "_view_module_version": "1.2.0",
            "grid_template_areas": null,
            "object_position": null,
            "object_fit": null,
            "grid_auto_columns": null,
            "margin": null,
            "display": null,
            "left": null
          }
        },
        "6ea3f3dadcf44bc6b5b4f5b7d0da5a37": {
          "model_module": "@jupyter-widgets/controls",
          "model_name": "FloatProgressModel",
          "state": {
            "_view_name": "ProgressView",
            "style": "IPY_MODEL_e6fa58962e594f9a9bb44d31c35fbc4c",
            "_dom_classes": [],
            "description": "Downloading: 100%",
            "_model_name": "FloatProgressModel",
            "bar_style": "success",
            "max": 1399,
            "_view_module": "@jupyter-widgets/controls",
            "_model_module_version": "1.5.0",
            "value": 1399,
            "_view_count": null,
            "_view_module_version": "1.5.0",
            "orientation": "horizontal",
            "min": 0,
            "description_tooltip": null,
            "_model_module": "@jupyter-widgets/controls",
            "layout": "IPY_MODEL_c899f6e4f6614687b464ef5d9293a611"
          }
        },
        "dd6b2f173d504c968be7966b57b4a717": {
          "model_module": "@jupyter-widgets/controls",
          "model_name": "HTMLModel",
          "state": {
            "_view_name": "HTMLView",
            "style": "IPY_MODEL_f7c751dbbe484564915234c3fcbc24cc",
            "_dom_classes": [],
            "description": "",
            "_model_name": "HTMLModel",
            "placeholder": "​",
            "_view_module": "@jupyter-widgets/controls",
            "_model_module_version": "1.5.0",
            "value": " 1.40k/1.40k [00:00&lt;00:00, 5.71kB/s]",
            "_view_count": null,
            "_view_module_version": "1.5.0",
            "description_tooltip": null,
            "_model_module": "@jupyter-widgets/controls",
            "layout": "IPY_MODEL_f4590ff654724f03a8f9d5274f9d43c7"
          }
        },
        "e6fa58962e594f9a9bb44d31c35fbc4c": {
          "model_module": "@jupyter-widgets/controls",
          "model_name": "ProgressStyleModel",
          "state": {
            "_view_name": "StyleView",
            "_model_name": "ProgressStyleModel",
            "description_width": "initial",
            "_view_module": "@jupyter-widgets/base",
            "_model_module_version": "1.5.0",
            "_view_count": null,
            "_view_module_version": "1.2.0",
            "bar_color": null,
            "_model_module": "@jupyter-widgets/controls"
          }
        },
        "c899f6e4f6614687b464ef5d9293a611": {
          "model_module": "@jupyter-widgets/base",
          "model_name": "LayoutModel",
          "state": {
            "_view_name": "LayoutView",
            "grid_template_rows": null,
            "right": null,
            "justify_content": null,
            "_view_module": "@jupyter-widgets/base",
            "overflow": null,
            "_model_module_version": "1.2.0",
            "_view_count": null,
            "flex_flow": null,
            "width": null,
            "min_width": null,
            "border": null,
            "align_items": null,
            "bottom": null,
            "_model_module": "@jupyter-widgets/base",
            "top": null,
            "grid_column": null,
            "overflow_y": null,
            "overflow_x": null,
            "grid_auto_flow": null,
            "grid_area": null,
            "grid_template_columns": null,
            "flex": null,
            "_model_name": "LayoutModel",
            "justify_items": null,
            "grid_row": null,
            "max_height": null,
            "align_content": null,
            "visibility": null,
            "align_self": null,
            "height": null,
            "min_height": null,
            "padding": null,
            "grid_auto_rows": null,
            "grid_gap": null,
            "max_width": null,
            "order": null,
            "_view_module_version": "1.2.0",
            "grid_template_areas": null,
            "object_position": null,
            "object_fit": null,
            "grid_auto_columns": null,
            "margin": null,
            "display": null,
            "left": null
          }
        },
        "f7c751dbbe484564915234c3fcbc24cc": {
          "model_module": "@jupyter-widgets/controls",
          "model_name": "DescriptionStyleModel",
          "state": {
            "_view_name": "StyleView",
            "_model_name": "DescriptionStyleModel",
            "description_width": "",
            "_view_module": "@jupyter-widgets/base",
            "_model_module_version": "1.5.0",
            "_view_count": null,
            "_view_module_version": "1.2.0",
            "_model_module": "@jupyter-widgets/controls"
          }
        },
        "f4590ff654724f03a8f9d5274f9d43c7": {
          "model_module": "@jupyter-widgets/base",
          "model_name": "LayoutModel",
          "state": {
            "_view_name": "LayoutView",
            "grid_template_rows": null,
            "right": null,
            "justify_content": null,
            "_view_module": "@jupyter-widgets/base",
            "overflow": null,
            "_model_module_version": "1.2.0",
            "_view_count": null,
            "flex_flow": null,
            "width": null,
            "min_width": null,
            "border": null,
            "align_items": null,
            "bottom": null,
            "_model_module": "@jupyter-widgets/base",
            "top": null,
            "grid_column": null,
            "overflow_y": null,
            "overflow_x": null,
            "grid_auto_flow": null,
            "grid_area": null,
            "grid_template_columns": null,
            "flex": null,
            "_model_name": "LayoutModel",
            "justify_items": null,
            "grid_row": null,
            "max_height": null,
            "align_content": null,
            "visibility": null,
            "align_self": null,
            "height": null,
            "min_height": null,
            "padding": null,
            "grid_auto_rows": null,
            "grid_gap": null,
            "max_width": null,
            "order": null,
            "_view_module_version": "1.2.0",
            "grid_template_areas": null,
            "object_position": null,
            "object_fit": null,
            "grid_auto_columns": null,
            "margin": null,
            "display": null,
            "left": null
          }
        },
        "63eca6336c934a25ac6e2dff6a6ff97b": {
          "model_module": "@jupyter-widgets/controls",
          "model_name": "HBoxModel",
          "state": {
            "_view_name": "HBoxView",
            "_dom_classes": [],
            "_model_name": "HBoxModel",
            "_view_module": "@jupyter-widgets/controls",
            "_model_module_version": "1.5.0",
            "_view_count": null,
            "_view_module_version": "1.5.0",
            "box_style": "",
            "layout": "IPY_MODEL_bc532f0a705c40f8b44a133b775e6c93",
            "_model_module": "@jupyter-widgets/controls",
            "children": [
              "IPY_MODEL_dbf92e0fc0a84fbab9756e19d0429061",
              "IPY_MODEL_e242a639116d462395ebd83907004545"
            ]
          }
        },
        "bc532f0a705c40f8b44a133b775e6c93": {
          "model_module": "@jupyter-widgets/base",
          "model_name": "LayoutModel",
          "state": {
            "_view_name": "LayoutView",
            "grid_template_rows": null,
            "right": null,
            "justify_content": null,
            "_view_module": "@jupyter-widgets/base",
            "overflow": null,
            "_model_module_version": "1.2.0",
            "_view_count": null,
            "flex_flow": null,
            "width": null,
            "min_width": null,
            "border": null,
            "align_items": null,
            "bottom": null,
            "_model_module": "@jupyter-widgets/base",
            "top": null,
            "grid_column": null,
            "overflow_y": null,
            "overflow_x": null,
            "grid_auto_flow": null,
            "grid_area": null,
            "grid_template_columns": null,
            "flex": null,
            "_model_name": "LayoutModel",
            "justify_items": null,
            "grid_row": null,
            "max_height": null,
            "align_content": null,
            "visibility": null,
            "align_self": null,
            "height": null,
            "min_height": null,
            "padding": null,
            "grid_auto_rows": null,
            "grid_gap": null,
            "max_width": null,
            "order": null,
            "_view_module_version": "1.2.0",
            "grid_template_areas": null,
            "object_position": null,
            "object_fit": null,
            "grid_auto_columns": null,
            "margin": null,
            "display": null,
            "left": null
          }
        },
        "dbf92e0fc0a84fbab9756e19d0429061": {
          "model_module": "@jupyter-widgets/controls",
          "model_name": "FloatProgressModel",
          "state": {
            "_view_name": "ProgressView",
            "style": "IPY_MODEL_d4e83c76140445e4b0ab005745bf9d7e",
            "_dom_classes": [],
            "description": "Downloading: 100%",
            "_model_name": "FloatProgressModel",
            "bar_style": "success",
            "max": 1625270765,
            "_view_module": "@jupyter-widgets/controls",
            "_model_module_version": "1.5.0",
            "value": 1625270765,
            "_view_count": null,
            "_view_module_version": "1.5.0",
            "orientation": "horizontal",
            "min": 0,
            "description_tooltip": null,
            "_model_module": "@jupyter-widgets/controls",
            "layout": "IPY_MODEL_bb1390ce35264f328d3f176d136aee0a"
          }
        },
        "e242a639116d462395ebd83907004545": {
          "model_module": "@jupyter-widgets/controls",
          "model_name": "HTMLModel",
          "state": {
            "_view_name": "HTMLView",
            "style": "IPY_MODEL_fcf01aa6cf2c4535852203b750c8166a",
            "_dom_classes": [],
            "description": "",
            "_model_name": "HTMLModel",
            "placeholder": "​",
            "_view_module": "@jupyter-widgets/controls",
            "_model_module_version": "1.5.0",
            "value": " 1.63G/1.63G [00:29&lt;00:00, 55.9MB/s]",
            "_view_count": null,
            "_view_module_version": "1.5.0",
            "description_tooltip": null,
            "_model_module": "@jupyter-widgets/controls",
            "layout": "IPY_MODEL_8263a47f94a4488380af1b81239a5ec3"
          }
        },
        "d4e83c76140445e4b0ab005745bf9d7e": {
          "model_module": "@jupyter-widgets/controls",
          "model_name": "ProgressStyleModel",
          "state": {
            "_view_name": "StyleView",
            "_model_name": "ProgressStyleModel",
            "description_width": "initial",
            "_view_module": "@jupyter-widgets/base",
            "_model_module_version": "1.5.0",
            "_view_count": null,
            "_view_module_version": "1.2.0",
            "bar_color": null,
            "_model_module": "@jupyter-widgets/controls"
          }
        },
        "bb1390ce35264f328d3f176d136aee0a": {
          "model_module": "@jupyter-widgets/base",
          "model_name": "LayoutModel",
          "state": {
            "_view_name": "LayoutView",
            "grid_template_rows": null,
            "right": null,
            "justify_content": null,
            "_view_module": "@jupyter-widgets/base",
            "overflow": null,
            "_model_module_version": "1.2.0",
            "_view_count": null,
            "flex_flow": null,
            "width": null,
            "min_width": null,
            "border": null,
            "align_items": null,
            "bottom": null,
            "_model_module": "@jupyter-widgets/base",
            "top": null,
            "grid_column": null,
            "overflow_y": null,
            "overflow_x": null,
            "grid_auto_flow": null,
            "grid_area": null,
            "grid_template_columns": null,
            "flex": null,
            "_model_name": "LayoutModel",
            "justify_items": null,
            "grid_row": null,
            "max_height": null,
            "align_content": null,
            "visibility": null,
            "align_self": null,
            "height": null,
            "min_height": null,
            "padding": null,
            "grid_auto_rows": null,
            "grid_gap": null,
            "max_width": null,
            "order": null,
            "_view_module_version": "1.2.0",
            "grid_template_areas": null,
            "object_position": null,
            "object_fit": null,
            "grid_auto_columns": null,
            "margin": null,
            "display": null,
            "left": null
          }
        },
        "fcf01aa6cf2c4535852203b750c8166a": {
          "model_module": "@jupyter-widgets/controls",
          "model_name": "DescriptionStyleModel",
          "state": {
            "_view_name": "StyleView",
            "_model_name": "DescriptionStyleModel",
            "description_width": "",
            "_view_module": "@jupyter-widgets/base",
            "_model_module_version": "1.5.0",
            "_view_count": null,
            "_view_module_version": "1.2.0",
            "_model_module": "@jupyter-widgets/controls"
          }
        },
        "8263a47f94a4488380af1b81239a5ec3": {
          "model_module": "@jupyter-widgets/base",
          "model_name": "LayoutModel",
          "state": {
            "_view_name": "LayoutView",
            "grid_template_rows": null,
            "right": null,
            "justify_content": null,
            "_view_module": "@jupyter-widgets/base",
            "overflow": null,
            "_model_module_version": "1.2.0",
            "_view_count": null,
            "flex_flow": null,
            "width": null,
            "min_width": null,
            "border": null,
            "align_items": null,
            "bottom": null,
            "_model_module": "@jupyter-widgets/base",
            "top": null,
            "grid_column": null,
            "overflow_y": null,
            "overflow_x": null,
            "grid_auto_flow": null,
            "grid_area": null,
            "grid_template_columns": null,
            "flex": null,
            "_model_name": "LayoutModel",
            "justify_items": null,
            "grid_row": null,
            "max_height": null,
            "align_content": null,
            "visibility": null,
            "align_self": null,
            "height": null,
            "min_height": null,
            "padding": null,
            "grid_auto_rows": null,
            "grid_gap": null,
            "max_width": null,
            "order": null,
            "_view_module_version": "1.2.0",
            "grid_template_areas": null,
            "object_position": null,
            "object_fit": null,
            "grid_auto_columns": null,
            "margin": null,
            "display": null,
            "left": null
          }
        },
        "235d01418ed64dd9be93db0d86ab4dfe": {
          "model_module": "@jupyter-widgets/controls",
          "model_name": "HBoxModel",
          "state": {
            "_view_name": "HBoxView",
            "_dom_classes": [],
            "_model_name": "HBoxModel",
            "_view_module": "@jupyter-widgets/controls",
            "_model_module_version": "1.5.0",
            "_view_count": null,
            "_view_module_version": "1.5.0",
            "box_style": "",
            "layout": "IPY_MODEL_f750370980154becbfea6df0026fc8d1",
            "_model_module": "@jupyter-widgets/controls",
            "children": [
              "IPY_MODEL_d14ebee17a1c4e898261646974359f31",
              "IPY_MODEL_a4de57ef75c6417195981518d7b04789"
            ]
          }
        },
        "f750370980154becbfea6df0026fc8d1": {
          "model_module": "@jupyter-widgets/base",
          "model_name": "LayoutModel",
          "state": {
            "_view_name": "LayoutView",
            "grid_template_rows": null,
            "right": null,
            "justify_content": null,
            "_view_module": "@jupyter-widgets/base",
            "overflow": null,
            "_model_module_version": "1.2.0",
            "_view_count": null,
            "flex_flow": null,
            "width": null,
            "min_width": null,
            "border": null,
            "align_items": null,
            "bottom": null,
            "_model_module": "@jupyter-widgets/base",
            "top": null,
            "grid_column": null,
            "overflow_y": null,
            "overflow_x": null,
            "grid_auto_flow": null,
            "grid_area": null,
            "grid_template_columns": null,
            "flex": null,
            "_model_name": "LayoutModel",
            "justify_items": null,
            "grid_row": null,
            "max_height": null,
            "align_content": null,
            "visibility": null,
            "align_self": null,
            "height": null,
            "min_height": null,
            "padding": null,
            "grid_auto_rows": null,
            "grid_gap": null,
            "max_width": null,
            "order": null,
            "_view_module_version": "1.2.0",
            "grid_template_areas": null,
            "object_position": null,
            "object_fit": null,
            "grid_auto_columns": null,
            "margin": null,
            "display": null,
            "left": null
          }
        },
        "d14ebee17a1c4e898261646974359f31": {
          "model_module": "@jupyter-widgets/controls",
          "model_name": "FloatProgressModel",
          "state": {
            "_view_name": "ProgressView",
            "style": "IPY_MODEL_50f2ac2c364e4e74a0a4e7e44912552d",
            "_dom_classes": [],
            "description": "Downloading: 100%",
            "_model_name": "FloatProgressModel",
            "bar_style": "success",
            "max": 898823,
            "_view_module": "@jupyter-widgets/controls",
            "_model_module_version": "1.5.0",
            "value": 898823,
            "_view_count": null,
            "_view_module_version": "1.5.0",
            "orientation": "horizontal",
            "min": 0,
            "description_tooltip": null,
            "_model_module": "@jupyter-widgets/controls",
            "layout": "IPY_MODEL_65de0afc4ea84b578f7d56914d23d375"
          }
        },
        "a4de57ef75c6417195981518d7b04789": {
          "model_module": "@jupyter-widgets/controls",
          "model_name": "HTMLModel",
          "state": {
            "_view_name": "HTMLView",
            "style": "IPY_MODEL_7c5b8411e1bb42db9f7ab02ebe1d95b2",
            "_dom_classes": [],
            "description": "",
            "_model_name": "HTMLModel",
            "placeholder": "​",
            "_view_module": "@jupyter-widgets/controls",
            "_model_module_version": "1.5.0",
            "value": " 899k/899k [00:01&lt;00:00, 571kB/s]",
            "_view_count": null,
            "_view_module_version": "1.5.0",
            "description_tooltip": null,
            "_model_module": "@jupyter-widgets/controls",
            "layout": "IPY_MODEL_d31bbc02783c45e897358832ad02e0b5"
          }
        },
        "50f2ac2c364e4e74a0a4e7e44912552d": {
          "model_module": "@jupyter-widgets/controls",
          "model_name": "ProgressStyleModel",
          "state": {
            "_view_name": "StyleView",
            "_model_name": "ProgressStyleModel",
            "description_width": "initial",
            "_view_module": "@jupyter-widgets/base",
            "_model_module_version": "1.5.0",
            "_view_count": null,
            "_view_module_version": "1.2.0",
            "bar_color": null,
            "_model_module": "@jupyter-widgets/controls"
          }
        },
        "65de0afc4ea84b578f7d56914d23d375": {
          "model_module": "@jupyter-widgets/base",
          "model_name": "LayoutModel",
          "state": {
            "_view_name": "LayoutView",
            "grid_template_rows": null,
            "right": null,
            "justify_content": null,
            "_view_module": "@jupyter-widgets/base",
            "overflow": null,
            "_model_module_version": "1.2.0",
            "_view_count": null,
            "flex_flow": null,
            "width": null,
            "min_width": null,
            "border": null,
            "align_items": null,
            "bottom": null,
            "_model_module": "@jupyter-widgets/base",
            "top": null,
            "grid_column": null,
            "overflow_y": null,
            "overflow_x": null,
            "grid_auto_flow": null,
            "grid_area": null,
            "grid_template_columns": null,
            "flex": null,
            "_model_name": "LayoutModel",
            "justify_items": null,
            "grid_row": null,
            "max_height": null,
            "align_content": null,
            "visibility": null,
            "align_self": null,
            "height": null,
            "min_height": null,
            "padding": null,
            "grid_auto_rows": null,
            "grid_gap": null,
            "max_width": null,
            "order": null,
            "_view_module_version": "1.2.0",
            "grid_template_areas": null,
            "object_position": null,
            "object_fit": null,
            "grid_auto_columns": null,
            "margin": null,
            "display": null,
            "left": null
          }
        },
        "7c5b8411e1bb42db9f7ab02ebe1d95b2": {
          "model_module": "@jupyter-widgets/controls",
          "model_name": "DescriptionStyleModel",
          "state": {
            "_view_name": "StyleView",
            "_model_name": "DescriptionStyleModel",
            "description_width": "",
            "_view_module": "@jupyter-widgets/base",
            "_model_module_version": "1.5.0",
            "_view_count": null,
            "_view_module_version": "1.2.0",
            "_model_module": "@jupyter-widgets/controls"
          }
        },
        "d31bbc02783c45e897358832ad02e0b5": {
          "model_module": "@jupyter-widgets/base",
          "model_name": "LayoutModel",
          "state": {
            "_view_name": "LayoutView",
            "grid_template_rows": null,
            "right": null,
            "justify_content": null,
            "_view_module": "@jupyter-widgets/base",
            "overflow": null,
            "_model_module_version": "1.2.0",
            "_view_count": null,
            "flex_flow": null,
            "width": null,
            "min_width": null,
            "border": null,
            "align_items": null,
            "bottom": null,
            "_model_module": "@jupyter-widgets/base",
            "top": null,
            "grid_column": null,
            "overflow_y": null,
            "overflow_x": null,
            "grid_auto_flow": null,
            "grid_area": null,
            "grid_template_columns": null,
            "flex": null,
            "_model_name": "LayoutModel",
            "justify_items": null,
            "grid_row": null,
            "max_height": null,
            "align_content": null,
            "visibility": null,
            "align_self": null,
            "height": null,
            "min_height": null,
            "padding": null,
            "grid_auto_rows": null,
            "grid_gap": null,
            "max_width": null,
            "order": null,
            "_view_module_version": "1.2.0",
            "grid_template_areas": null,
            "object_position": null,
            "object_fit": null,
            "grid_auto_columns": null,
            "margin": null,
            "display": null,
            "left": null
          }
        },
        "a025fef18f2b486e91f9abf7de353da8": {
          "model_module": "@jupyter-widgets/controls",
          "model_name": "HBoxModel",
          "state": {
            "_view_name": "HBoxView",
            "_dom_classes": [],
            "_model_name": "HBoxModel",
            "_view_module": "@jupyter-widgets/controls",
            "_model_module_version": "1.5.0",
            "_view_count": null,
            "_view_module_version": "1.5.0",
            "box_style": "",
            "layout": "IPY_MODEL_8d52212a2037428985f72f8389e5cc28",
            "_model_module": "@jupyter-widgets/controls",
            "children": [
              "IPY_MODEL_4efb772166a44916b24160394b35acd8",
              "IPY_MODEL_cb4b420904f140bbacc5cf9265f3fda9"
            ]
          }
        },
        "8d52212a2037428985f72f8389e5cc28": {
          "model_module": "@jupyter-widgets/base",
          "model_name": "LayoutModel",
          "state": {
            "_view_name": "LayoutView",
            "grid_template_rows": null,
            "right": null,
            "justify_content": null,
            "_view_module": "@jupyter-widgets/base",
            "overflow": null,
            "_model_module_version": "1.2.0",
            "_view_count": null,
            "flex_flow": null,
            "width": null,
            "min_width": null,
            "border": null,
            "align_items": null,
            "bottom": null,
            "_model_module": "@jupyter-widgets/base",
            "top": null,
            "grid_column": null,
            "overflow_y": null,
            "overflow_x": null,
            "grid_auto_flow": null,
            "grid_area": null,
            "grid_template_columns": null,
            "flex": null,
            "_model_name": "LayoutModel",
            "justify_items": null,
            "grid_row": null,
            "max_height": null,
            "align_content": null,
            "visibility": null,
            "align_self": null,
            "height": null,
            "min_height": null,
            "padding": null,
            "grid_auto_rows": null,
            "grid_gap": null,
            "max_width": null,
            "order": null,
            "_view_module_version": "1.2.0",
            "grid_template_areas": null,
            "object_position": null,
            "object_fit": null,
            "grid_auto_columns": null,
            "margin": null,
            "display": null,
            "left": null
          }
        },
        "4efb772166a44916b24160394b35acd8": {
          "model_module": "@jupyter-widgets/controls",
          "model_name": "FloatProgressModel",
          "state": {
            "_view_name": "ProgressView",
            "style": "IPY_MODEL_0f21c2e752b249ebbff55b18fedd9938",
            "_dom_classes": [],
            "description": "Downloading: 100%",
            "_model_name": "FloatProgressModel",
            "bar_style": "success",
            "max": 456318,
            "_view_module": "@jupyter-widgets/controls",
            "_model_module_version": "1.5.0",
            "value": 456318,
            "_view_count": null,
            "_view_module_version": "1.5.0",
            "orientation": "horizontal",
            "min": 0,
            "description_tooltip": null,
            "_model_module": "@jupyter-widgets/controls",
            "layout": "IPY_MODEL_4d0a049304c947f9adae98fbc30fe891"
          }
        },
        "cb4b420904f140bbacc5cf9265f3fda9": {
          "model_module": "@jupyter-widgets/controls",
          "model_name": "HTMLModel",
          "state": {
            "_view_name": "HTMLView",
            "style": "IPY_MODEL_9516ce0264d64b64967658373ac8adfb",
            "_dom_classes": [],
            "description": "",
            "_model_name": "HTMLModel",
            "placeholder": "​",
            "_view_module": "@jupyter-widgets/controls",
            "_model_module_version": "1.5.0",
            "value": " 456k/456k [00:00&lt;00:00, 601kB/s]",
            "_view_count": null,
            "_view_module_version": "1.5.0",
            "description_tooltip": null,
            "_model_module": "@jupyter-widgets/controls",
            "layout": "IPY_MODEL_9aed3bb8a8d24a25b892725ad48b63f4"
          }
        },
        "0f21c2e752b249ebbff55b18fedd9938": {
          "model_module": "@jupyter-widgets/controls",
          "model_name": "ProgressStyleModel",
          "state": {
            "_view_name": "StyleView",
            "_model_name": "ProgressStyleModel",
            "description_width": "initial",
            "_view_module": "@jupyter-widgets/base",
            "_model_module_version": "1.5.0",
            "_view_count": null,
            "_view_module_version": "1.2.0",
            "bar_color": null,
            "_model_module": "@jupyter-widgets/controls"
          }
        },
        "4d0a049304c947f9adae98fbc30fe891": {
          "model_module": "@jupyter-widgets/base",
          "model_name": "LayoutModel",
          "state": {
            "_view_name": "LayoutView",
            "grid_template_rows": null,
            "right": null,
            "justify_content": null,
            "_view_module": "@jupyter-widgets/base",
            "overflow": null,
            "_model_module_version": "1.2.0",
            "_view_count": null,
            "flex_flow": null,
            "width": null,
            "min_width": null,
            "border": null,
            "align_items": null,
            "bottom": null,
            "_model_module": "@jupyter-widgets/base",
            "top": null,
            "grid_column": null,
            "overflow_y": null,
            "overflow_x": null,
            "grid_auto_flow": null,
            "grid_area": null,
            "grid_template_columns": null,
            "flex": null,
            "_model_name": "LayoutModel",
            "justify_items": null,
            "grid_row": null,
            "max_height": null,
            "align_content": null,
            "visibility": null,
            "align_self": null,
            "height": null,
            "min_height": null,
            "padding": null,
            "grid_auto_rows": null,
            "grid_gap": null,
            "max_width": null,
            "order": null,
            "_view_module_version": "1.2.0",
            "grid_template_areas": null,
            "object_position": null,
            "object_fit": null,
            "grid_auto_columns": null,
            "margin": null,
            "display": null,
            "left": null
          }
        },
        "9516ce0264d64b64967658373ac8adfb": {
          "model_module": "@jupyter-widgets/controls",
          "model_name": "DescriptionStyleModel",
          "state": {
            "_view_name": "StyleView",
            "_model_name": "DescriptionStyleModel",
            "description_width": "",
            "_view_module": "@jupyter-widgets/base",
            "_model_module_version": "1.5.0",
            "_view_count": null,
            "_view_module_version": "1.2.0",
            "_model_module": "@jupyter-widgets/controls"
          }
        },
        "9aed3bb8a8d24a25b892725ad48b63f4": {
          "model_module": "@jupyter-widgets/base",
          "model_name": "LayoutModel",
          "state": {
            "_view_name": "LayoutView",
            "grid_template_rows": null,
            "right": null,
            "justify_content": null,
            "_view_module": "@jupyter-widgets/base",
            "overflow": null,
            "_model_module_version": "1.2.0",
            "_view_count": null,
            "flex_flow": null,
            "width": null,
            "min_width": null,
            "border": null,
            "align_items": null,
            "bottom": null,
            "_model_module": "@jupyter-widgets/base",
            "top": null,
            "grid_column": null,
            "overflow_y": null,
            "overflow_x": null,
            "grid_auto_flow": null,
            "grid_area": null,
            "grid_template_columns": null,
            "flex": null,
            "_model_name": "LayoutModel",
            "justify_items": null,
            "grid_row": null,
            "max_height": null,
            "align_content": null,
            "visibility": null,
            "align_self": null,
            "height": null,
            "min_height": null,
            "padding": null,
            "grid_auto_rows": null,
            "grid_gap": null,
            "max_width": null,
            "order": null,
            "_view_module_version": "1.2.0",
            "grid_template_areas": null,
            "object_position": null,
            "object_fit": null,
            "grid_auto_columns": null,
            "margin": null,
            "display": null,
            "left": null
          }
        },
        "b6018299ae8240f5b3c36ced6f195e74": {
          "model_module": "@jupyter-widgets/controls",
          "model_name": "HBoxModel",
          "state": {
            "_view_name": "HBoxView",
            "_dom_classes": [],
            "_model_name": "HBoxModel",
            "_view_module": "@jupyter-widgets/controls",
            "_model_module_version": "1.5.0",
            "_view_count": null,
            "_view_module_version": "1.5.0",
            "box_style": "",
            "layout": "IPY_MODEL_290d415bd37a4fa79a80ff14eaa05664",
            "_model_module": "@jupyter-widgets/controls",
            "children": [
              "IPY_MODEL_7506f551fddf4b5d8126240bd43bffa6",
              "IPY_MODEL_8a5cb4d2057142d0abd92c66a7100a90"
            ]
          }
        },
        "290d415bd37a4fa79a80ff14eaa05664": {
          "model_module": "@jupyter-widgets/base",
          "model_name": "LayoutModel",
          "state": {
            "_view_name": "LayoutView",
            "grid_template_rows": null,
            "right": null,
            "justify_content": null,
            "_view_module": "@jupyter-widgets/base",
            "overflow": null,
            "_model_module_version": "1.2.0",
            "_view_count": null,
            "flex_flow": null,
            "width": null,
            "min_width": null,
            "border": null,
            "align_items": null,
            "bottom": null,
            "_model_module": "@jupyter-widgets/base",
            "top": null,
            "grid_column": null,
            "overflow_y": null,
            "overflow_x": null,
            "grid_auto_flow": null,
            "grid_area": null,
            "grid_template_columns": null,
            "flex": null,
            "_model_name": "LayoutModel",
            "justify_items": null,
            "grid_row": null,
            "max_height": null,
            "align_content": null,
            "visibility": null,
            "align_self": null,
            "height": null,
            "min_height": null,
            "padding": null,
            "grid_auto_rows": null,
            "grid_gap": null,
            "max_width": null,
            "order": null,
            "_view_module_version": "1.2.0",
            "grid_template_areas": null,
            "object_position": null,
            "object_fit": null,
            "grid_auto_columns": null,
            "margin": null,
            "display": null,
            "left": null
          }
        },
        "7506f551fddf4b5d8126240bd43bffa6": {
          "model_module": "@jupyter-widgets/controls",
          "model_name": "FloatProgressModel",
          "state": {
            "_view_name": "ProgressView",
            "style": "IPY_MODEL_9eb281ebd5ba4df38e21d31c321d0574",
            "_dom_classes": [],
            "description": "Downloading: 100%",
            "_model_name": "FloatProgressModel",
            "bar_style": "success",
            "max": 1355863,
            "_view_module": "@jupyter-widgets/controls",
            "_model_module_version": "1.5.0",
            "value": 1355863,
            "_view_count": null,
            "_view_module_version": "1.5.0",
            "orientation": "horizontal",
            "min": 0,
            "description_tooltip": null,
            "_model_module": "@jupyter-widgets/controls",
            "layout": "IPY_MODEL_a7e7bffab10f4e8985381205b5a3c968"
          }
        },
        "8a5cb4d2057142d0abd92c66a7100a90": {
          "model_module": "@jupyter-widgets/controls",
          "model_name": "HTMLModel",
          "state": {
            "_view_name": "HTMLView",
            "style": "IPY_MODEL_46746ed001b14a55b6d177eb61ff71e2",
            "_dom_classes": [],
            "description": "",
            "_model_name": "HTMLModel",
            "placeholder": "​",
            "_view_module": "@jupyter-widgets/controls",
            "_model_module_version": "1.5.0",
            "value": " 1.36M/1.36M [01:03&lt;00:00, 21.4kB/s]",
            "_view_count": null,
            "_view_module_version": "1.5.0",
            "description_tooltip": null,
            "_model_module": "@jupyter-widgets/controls",
            "layout": "IPY_MODEL_60084cfafcfc48a4963acb87e2e3d0d4"
          }
        },
        "9eb281ebd5ba4df38e21d31c321d0574": {
          "model_module": "@jupyter-widgets/controls",
          "model_name": "ProgressStyleModel",
          "state": {
            "_view_name": "StyleView",
            "_model_name": "ProgressStyleModel",
            "description_width": "initial",
            "_view_module": "@jupyter-widgets/base",
            "_model_module_version": "1.5.0",
            "_view_count": null,
            "_view_module_version": "1.2.0",
            "bar_color": null,
            "_model_module": "@jupyter-widgets/controls"
          }
        },
        "a7e7bffab10f4e8985381205b5a3c968": {
          "model_module": "@jupyter-widgets/base",
          "model_name": "LayoutModel",
          "state": {
            "_view_name": "LayoutView",
            "grid_template_rows": null,
            "right": null,
            "justify_content": null,
            "_view_module": "@jupyter-widgets/base",
            "overflow": null,
            "_model_module_version": "1.2.0",
            "_view_count": null,
            "flex_flow": null,
            "width": null,
            "min_width": null,
            "border": null,
            "align_items": null,
            "bottom": null,
            "_model_module": "@jupyter-widgets/base",
            "top": null,
            "grid_column": null,
            "overflow_y": null,
            "overflow_x": null,
            "grid_auto_flow": null,
            "grid_area": null,
            "grid_template_columns": null,
            "flex": null,
            "_model_name": "LayoutModel",
            "justify_items": null,
            "grid_row": null,
            "max_height": null,
            "align_content": null,
            "visibility": null,
            "align_self": null,
            "height": null,
            "min_height": null,
            "padding": null,
            "grid_auto_rows": null,
            "grid_gap": null,
            "max_width": null,
            "order": null,
            "_view_module_version": "1.2.0",
            "grid_template_areas": null,
            "object_position": null,
            "object_fit": null,
            "grid_auto_columns": null,
            "margin": null,
            "display": null,
            "left": null
          }
        },
        "46746ed001b14a55b6d177eb61ff71e2": {
          "model_module": "@jupyter-widgets/controls",
          "model_name": "DescriptionStyleModel",
          "state": {
            "_view_name": "StyleView",
            "_model_name": "DescriptionStyleModel",
            "description_width": "",
            "_view_module": "@jupyter-widgets/base",
            "_model_module_version": "1.5.0",
            "_view_count": null,
            "_view_module_version": "1.2.0",
            "_model_module": "@jupyter-widgets/controls"
          }
        },
        "60084cfafcfc48a4963acb87e2e3d0d4": {
          "model_module": "@jupyter-widgets/base",
          "model_name": "LayoutModel",
          "state": {
            "_view_name": "LayoutView",
            "grid_template_rows": null,
            "right": null,
            "justify_content": null,
            "_view_module": "@jupyter-widgets/base",
            "overflow": null,
            "_model_module_version": "1.2.0",
            "_view_count": null,
            "flex_flow": null,
            "width": null,
            "min_width": null,
            "border": null,
            "align_items": null,
            "bottom": null,
            "_model_module": "@jupyter-widgets/base",
            "top": null,
            "grid_column": null,
            "overflow_y": null,
            "overflow_x": null,
            "grid_auto_flow": null,
            "grid_area": null,
            "grid_template_columns": null,
            "flex": null,
            "_model_name": "LayoutModel",
            "justify_items": null,
            "grid_row": null,
            "max_height": null,
            "align_content": null,
            "visibility": null,
            "align_self": null,
            "height": null,
            "min_height": null,
            "padding": null,
            "grid_auto_rows": null,
            "grid_gap": null,
            "max_width": null,
            "order": null,
            "_view_module_version": "1.2.0",
            "grid_template_areas": null,
            "object_position": null,
            "object_fit": null,
            "grid_auto_columns": null,
            "margin": null,
            "display": null,
            "left": null
          }
        },
        "24e4149520744afb998850140867693d": {
          "model_module": "@jupyter-widgets/controls",
          "model_name": "HBoxModel",
          "state": {
            "_view_name": "HBoxView",
            "_dom_classes": [],
            "_model_name": "HBoxModel",
            "_view_module": "@jupyter-widgets/controls",
            "_model_module_version": "1.5.0",
            "_view_count": null,
            "_view_module_version": "1.5.0",
            "box_style": "",
            "layout": "IPY_MODEL_b8929223de964ca9be4661ae5bedf2ff",
            "_model_module": "@jupyter-widgets/controls",
            "children": [
              "IPY_MODEL_42c4d4a0d15549ab85898934bdd56c2e",
              "IPY_MODEL_ca610ece1dbf4b43aaac68c724dea140"
            ]
          }
        },
        "b8929223de964ca9be4661ae5bedf2ff": {
          "model_module": "@jupyter-widgets/base",
          "model_name": "LayoutModel",
          "state": {
            "_view_name": "LayoutView",
            "grid_template_rows": null,
            "right": null,
            "justify_content": null,
            "_view_module": "@jupyter-widgets/base",
            "overflow": null,
            "_model_module_version": "1.2.0",
            "_view_count": null,
            "flex_flow": null,
            "width": null,
            "min_width": null,
            "border": null,
            "align_items": null,
            "bottom": null,
            "_model_module": "@jupyter-widgets/base",
            "top": null,
            "grid_column": null,
            "overflow_y": null,
            "overflow_x": null,
            "grid_auto_flow": null,
            "grid_area": null,
            "grid_template_columns": null,
            "flex": null,
            "_model_name": "LayoutModel",
            "justify_items": null,
            "grid_row": null,
            "max_height": null,
            "align_content": null,
            "visibility": null,
            "align_self": null,
            "height": null,
            "min_height": null,
            "padding": null,
            "grid_auto_rows": null,
            "grid_gap": null,
            "max_width": null,
            "order": null,
            "_view_module_version": "1.2.0",
            "grid_template_areas": null,
            "object_position": null,
            "object_fit": null,
            "grid_auto_columns": null,
            "margin": null,
            "display": null,
            "left": null
          }
        },
        "42c4d4a0d15549ab85898934bdd56c2e": {
          "model_module": "@jupyter-widgets/controls",
          "model_name": "FloatProgressModel",
          "state": {
            "_view_name": "ProgressView",
            "style": "IPY_MODEL_2bc0b71b2ae84974bca59fb829291eaf",
            "_dom_classes": [],
            "description": "Downloading: 100%",
            "_model_name": "FloatProgressModel",
            "bar_style": "success",
            "max": 1200,
            "_view_module": "@jupyter-widgets/controls",
            "_model_module_version": "1.5.0",
            "value": 1200,
            "_view_count": null,
            "_view_module_version": "1.5.0",
            "orientation": "horizontal",
            "min": 0,
            "description_tooltip": null,
            "_model_module": "@jupyter-widgets/controls",
            "layout": "IPY_MODEL_ac971cd729184121877e25461b703d48"
          }
        },
        "ca610ece1dbf4b43aaac68c724dea140": {
          "model_module": "@jupyter-widgets/controls",
          "model_name": "HTMLModel",
          "state": {
            "_view_name": "HTMLView",
            "style": "IPY_MODEL_94e3d56f38ce43b596446e0435f6f2f1",
            "_dom_classes": [],
            "description": "",
            "_model_name": "HTMLModel",
            "placeholder": "​",
            "_view_module": "@jupyter-widgets/controls",
            "_model_module_version": "1.5.0",
            "value": " 1.20k/1.20k [01:25&lt;00:00, 14.0B/s]",
            "_view_count": null,
            "_view_module_version": "1.5.0",
            "description_tooltip": null,
            "_model_module": "@jupyter-widgets/controls",
            "layout": "IPY_MODEL_33b0885405504d29956e19cd631c27ff"
          }
        },
        "2bc0b71b2ae84974bca59fb829291eaf": {
          "model_module": "@jupyter-widgets/controls",
          "model_name": "ProgressStyleModel",
          "state": {
            "_view_name": "StyleView",
            "_model_name": "ProgressStyleModel",
            "description_width": "initial",
            "_view_module": "@jupyter-widgets/base",
            "_model_module_version": "1.5.0",
            "_view_count": null,
            "_view_module_version": "1.2.0",
            "bar_color": null,
            "_model_module": "@jupyter-widgets/controls"
          }
        },
        "ac971cd729184121877e25461b703d48": {
          "model_module": "@jupyter-widgets/base",
          "model_name": "LayoutModel",
          "state": {
            "_view_name": "LayoutView",
            "grid_template_rows": null,
            "right": null,
            "justify_content": null,
            "_view_module": "@jupyter-widgets/base",
            "overflow": null,
            "_model_module_version": "1.2.0",
            "_view_count": null,
            "flex_flow": null,
            "width": null,
            "min_width": null,
            "border": null,
            "align_items": null,
            "bottom": null,
            "_model_module": "@jupyter-widgets/base",
            "top": null,
            "grid_column": null,
            "overflow_y": null,
            "overflow_x": null,
            "grid_auto_flow": null,
            "grid_area": null,
            "grid_template_columns": null,
            "flex": null,
            "_model_name": "LayoutModel",
            "justify_items": null,
            "grid_row": null,
            "max_height": null,
            "align_content": null,
            "visibility": null,
            "align_self": null,
            "height": null,
            "min_height": null,
            "padding": null,
            "grid_auto_rows": null,
            "grid_gap": null,
            "max_width": null,
            "order": null,
            "_view_module_version": "1.2.0",
            "grid_template_areas": null,
            "object_position": null,
            "object_fit": null,
            "grid_auto_columns": null,
            "margin": null,
            "display": null,
            "left": null
          }
        },
        "94e3d56f38ce43b596446e0435f6f2f1": {
          "model_module": "@jupyter-widgets/controls",
          "model_name": "DescriptionStyleModel",
          "state": {
            "_view_name": "StyleView",
            "_model_name": "DescriptionStyleModel",
            "description_width": "",
            "_view_module": "@jupyter-widgets/base",
            "_model_module_version": "1.5.0",
            "_view_count": null,
            "_view_module_version": "1.2.0",
            "_model_module": "@jupyter-widgets/controls"
          }
        },
        "33b0885405504d29956e19cd631c27ff": {
          "model_module": "@jupyter-widgets/base",
          "model_name": "LayoutModel",
          "state": {
            "_view_name": "LayoutView",
            "grid_template_rows": null,
            "right": null,
            "justify_content": null,
            "_view_module": "@jupyter-widgets/base",
            "overflow": null,
            "_model_module_version": "1.2.0",
            "_view_count": null,
            "flex_flow": null,
            "width": null,
            "min_width": null,
            "border": null,
            "align_items": null,
            "bottom": null,
            "_model_module": "@jupyter-widgets/base",
            "top": null,
            "grid_column": null,
            "overflow_y": null,
            "overflow_x": null,
            "grid_auto_flow": null,
            "grid_area": null,
            "grid_template_columns": null,
            "flex": null,
            "_model_name": "LayoutModel",
            "justify_items": null,
            "grid_row": null,
            "max_height": null,
            "align_content": null,
            "visibility": null,
            "align_self": null,
            "height": null,
            "min_height": null,
            "padding": null,
            "grid_auto_rows": null,
            "grid_gap": null,
            "max_width": null,
            "order": null,
            "_view_module_version": "1.2.0",
            "grid_template_areas": null,
            "object_position": null,
            "object_fit": null,
            "grid_auto_columns": null,
            "margin": null,
            "display": null,
            "left": null
          }
        },
        "1fa77fbe548b495c99ac895d86187bec": {
          "model_module": "@jupyter-widgets/controls",
          "model_name": "HBoxModel",
          "state": {
            "_view_name": "HBoxView",
            "_dom_classes": [],
            "_model_name": "HBoxModel",
            "_view_module": "@jupyter-widgets/controls",
            "_model_module_version": "1.5.0",
            "_view_count": null,
            "_view_module_version": "1.5.0",
            "box_style": "",
            "layout": "IPY_MODEL_245df5d8c8c34a4e9382160cea94bef0",
            "_model_module": "@jupyter-widgets/controls",
            "children": [
              "IPY_MODEL_56fb5091d6e245c19151e6873a672796",
              "IPY_MODEL_fc77bb2988d84e6da4fea36eefe83b3b"
            ]
          }
        },
        "245df5d8c8c34a4e9382160cea94bef0": {
          "model_module": "@jupyter-widgets/base",
          "model_name": "LayoutModel",
          "state": {
            "_view_name": "LayoutView",
            "grid_template_rows": null,
            "right": null,
            "justify_content": null,
            "_view_module": "@jupyter-widgets/base",
            "overflow": null,
            "_model_module_version": "1.2.0",
            "_view_count": null,
            "flex_flow": null,
            "width": null,
            "min_width": null,
            "border": null,
            "align_items": null,
            "bottom": null,
            "_model_module": "@jupyter-widgets/base",
            "top": null,
            "grid_column": null,
            "overflow_y": null,
            "overflow_x": null,
            "grid_auto_flow": null,
            "grid_area": null,
            "grid_template_columns": null,
            "flex": null,
            "_model_name": "LayoutModel",
            "justify_items": null,
            "grid_row": null,
            "max_height": null,
            "align_content": null,
            "visibility": null,
            "align_self": null,
            "height": null,
            "min_height": null,
            "padding": null,
            "grid_auto_rows": null,
            "grid_gap": null,
            "max_width": null,
            "order": null,
            "_view_module_version": "1.2.0",
            "grid_template_areas": null,
            "object_position": null,
            "object_fit": null,
            "grid_auto_columns": null,
            "margin": null,
            "display": null,
            "left": null
          }
        },
        "56fb5091d6e245c19151e6873a672796": {
          "model_module": "@jupyter-widgets/controls",
          "model_name": "FloatProgressModel",
          "state": {
            "_view_name": "ProgressView",
            "style": "IPY_MODEL_b0656e503b5f43789f50330bbd5c2a0f",
            "_dom_classes": [],
            "description": "Downloading: 100%",
            "_model_name": "FloatProgressModel",
            "bar_style": "success",
            "max": 791656,
            "_view_module": "@jupyter-widgets/controls",
            "_model_module_version": "1.5.0",
            "value": 791656,
            "_view_count": null,
            "_view_module_version": "1.5.0",
            "orientation": "horizontal",
            "min": 0,
            "description_tooltip": null,
            "_model_module": "@jupyter-widgets/controls",
            "layout": "IPY_MODEL_cbf79d418ad4440f8cf3d6e867f62d29"
          }
        },
        "fc77bb2988d84e6da4fea36eefe83b3b": {
          "model_module": "@jupyter-widgets/controls",
          "model_name": "HTMLModel",
          "state": {
            "_view_name": "HTMLView",
            "style": "IPY_MODEL_3dbc4366384046ef9344cfaa9de3773c",
            "_dom_classes": [],
            "description": "",
            "_model_name": "HTMLModel",
            "placeholder": "​",
            "_view_module": "@jupyter-widgets/controls",
            "_model_module_version": "1.5.0",
            "value": " 792k/792k [00:02&lt;00:00, 314kB/s]",
            "_view_count": null,
            "_view_module_version": "1.5.0",
            "description_tooltip": null,
            "_model_module": "@jupyter-widgets/controls",
            "layout": "IPY_MODEL_5bc0f5a5932647b6a0956ca55d7dfcd8"
          }
        },
        "b0656e503b5f43789f50330bbd5c2a0f": {
          "model_module": "@jupyter-widgets/controls",
          "model_name": "ProgressStyleModel",
          "state": {
            "_view_name": "StyleView",
            "_model_name": "ProgressStyleModel",
            "description_width": "initial",
            "_view_module": "@jupyter-widgets/base",
            "_model_module_version": "1.5.0",
            "_view_count": null,
            "_view_module_version": "1.2.0",
            "bar_color": null,
            "_model_module": "@jupyter-widgets/controls"
          }
        },
        "cbf79d418ad4440f8cf3d6e867f62d29": {
          "model_module": "@jupyter-widgets/base",
          "model_name": "LayoutModel",
          "state": {
            "_view_name": "LayoutView",
            "grid_template_rows": null,
            "right": null,
            "justify_content": null,
            "_view_module": "@jupyter-widgets/base",
            "overflow": null,
            "_model_module_version": "1.2.0",
            "_view_count": null,
            "flex_flow": null,
            "width": null,
            "min_width": null,
            "border": null,
            "align_items": null,
            "bottom": null,
            "_model_module": "@jupyter-widgets/base",
            "top": null,
            "grid_column": null,
            "overflow_y": null,
            "overflow_x": null,
            "grid_auto_flow": null,
            "grid_area": null,
            "grid_template_columns": null,
            "flex": null,
            "_model_name": "LayoutModel",
            "justify_items": null,
            "grid_row": null,
            "max_height": null,
            "align_content": null,
            "visibility": null,
            "align_self": null,
            "height": null,
            "min_height": null,
            "padding": null,
            "grid_auto_rows": null,
            "grid_gap": null,
            "max_width": null,
            "order": null,
            "_view_module_version": "1.2.0",
            "grid_template_areas": null,
            "object_position": null,
            "object_fit": null,
            "grid_auto_columns": null,
            "margin": null,
            "display": null,
            "left": null
          }
        },
        "3dbc4366384046ef9344cfaa9de3773c": {
          "model_module": "@jupyter-widgets/controls",
          "model_name": "DescriptionStyleModel",
          "state": {
            "_view_name": "StyleView",
            "_model_name": "DescriptionStyleModel",
            "description_width": "",
            "_view_module": "@jupyter-widgets/base",
            "_model_module_version": "1.5.0",
            "_view_count": null,
            "_view_module_version": "1.2.0",
            "_model_module": "@jupyter-widgets/controls"
          }
        },
        "5bc0f5a5932647b6a0956ca55d7dfcd8": {
          "model_module": "@jupyter-widgets/base",
          "model_name": "LayoutModel",
          "state": {
            "_view_name": "LayoutView",
            "grid_template_rows": null,
            "right": null,
            "justify_content": null,
            "_view_module": "@jupyter-widgets/base",
            "overflow": null,
            "_model_module_version": "1.2.0",
            "_view_count": null,
            "flex_flow": null,
            "width": null,
            "min_width": null,
            "border": null,
            "align_items": null,
            "bottom": null,
            "_model_module": "@jupyter-widgets/base",
            "top": null,
            "grid_column": null,
            "overflow_y": null,
            "overflow_x": null,
            "grid_auto_flow": null,
            "grid_area": null,
            "grid_template_columns": null,
            "flex": null,
            "_model_name": "LayoutModel",
            "justify_items": null,
            "grid_row": null,
            "max_height": null,
            "align_content": null,
            "visibility": null,
            "align_self": null,
            "height": null,
            "min_height": null,
            "padding": null,
            "grid_auto_rows": null,
            "grid_gap": null,
            "max_width": null,
            "order": null,
            "_view_module_version": "1.2.0",
            "grid_template_areas": null,
            "object_position": null,
            "object_fit": null,
            "grid_auto_columns": null,
            "margin": null,
            "display": null,
            "left": null
          }
        },
        "b247e7a69ade4c44a9769def4eab8f41": {
          "model_module": "@jupyter-widgets/controls",
          "model_name": "HBoxModel",
          "state": {
            "_view_name": "HBoxView",
            "_dom_classes": [],
            "_model_name": "HBoxModel",
            "_view_module": "@jupyter-widgets/controls",
            "_model_module_version": "1.5.0",
            "_view_count": null,
            "_view_module_version": "1.5.0",
            "box_style": "",
            "layout": "IPY_MODEL_c0f1dcbe3a7f4a25a8a94ddc112587fc",
            "_model_module": "@jupyter-widgets/controls",
            "children": [
              "IPY_MODEL_2bb56b1869c54ec891dc01e57b150226",
              "IPY_MODEL_9dae9408dd6b49fe98c0edc66280d2a1"
            ]
          }
        },
        "c0f1dcbe3a7f4a25a8a94ddc112587fc": {
          "model_module": "@jupyter-widgets/base",
          "model_name": "LayoutModel",
          "state": {
            "_view_name": "LayoutView",
            "grid_template_rows": null,
            "right": null,
            "justify_content": null,
            "_view_module": "@jupyter-widgets/base",
            "overflow": null,
            "_model_module_version": "1.2.0",
            "_view_count": null,
            "flex_flow": null,
            "width": null,
            "min_width": null,
            "border": null,
            "align_items": null,
            "bottom": null,
            "_model_module": "@jupyter-widgets/base",
            "top": null,
            "grid_column": null,
            "overflow_y": null,
            "overflow_x": null,
            "grid_auto_flow": null,
            "grid_area": null,
            "grid_template_columns": null,
            "flex": null,
            "_model_name": "LayoutModel",
            "justify_items": null,
            "grid_row": null,
            "max_height": null,
            "align_content": null,
            "visibility": null,
            "align_self": null,
            "height": null,
            "min_height": null,
            "padding": null,
            "grid_auto_rows": null,
            "grid_gap": null,
            "max_width": null,
            "order": null,
            "_view_module_version": "1.2.0",
            "grid_template_areas": null,
            "object_position": null,
            "object_fit": null,
            "grid_auto_columns": null,
            "margin": null,
            "display": null,
            "left": null
          }
        },
        "2bb56b1869c54ec891dc01e57b150226": {
          "model_module": "@jupyter-widgets/controls",
          "model_name": "FloatProgressModel",
          "state": {
            "_view_name": "ProgressView",
            "style": "IPY_MODEL_e92fba48123d46d5940a917e47213b75",
            "_dom_classes": [],
            "description": "Downloading: 100%",
            "_model_name": "FloatProgressModel",
            "bar_style": "success",
            "max": 1389353,
            "_view_module": "@jupyter-widgets/controls",
            "_model_module_version": "1.5.0",
            "value": 1389353,
            "_view_count": null,
            "_view_module_version": "1.5.0",
            "orientation": "horizontal",
            "min": 0,
            "description_tooltip": null,
            "_model_module": "@jupyter-widgets/controls",
            "layout": "IPY_MODEL_ba397227d6d54f19b497f68f2126d3af"
          }
        },
        "9dae9408dd6b49fe98c0edc66280d2a1": {
          "model_module": "@jupyter-widgets/controls",
          "model_name": "HTMLModel",
          "state": {
            "_view_name": "HTMLView",
            "style": "IPY_MODEL_2e65ffdf41f64725bec979f27c29d1ac",
            "_dom_classes": [],
            "description": "",
            "_model_name": "HTMLModel",
            "placeholder": "​",
            "_view_module": "@jupyter-widgets/controls",
            "_model_module_version": "1.5.0",
            "value": " 1.39M/1.39M [00:01&lt;00:00, 788kB/s]",
            "_view_count": null,
            "_view_module_version": "1.5.0",
            "description_tooltip": null,
            "_model_module": "@jupyter-widgets/controls",
            "layout": "IPY_MODEL_64ccbd8f23f34e3d965d8594d15e21eb"
          }
        },
        "e92fba48123d46d5940a917e47213b75": {
          "model_module": "@jupyter-widgets/controls",
          "model_name": "ProgressStyleModel",
          "state": {
            "_view_name": "StyleView",
            "_model_name": "ProgressStyleModel",
            "description_width": "initial",
            "_view_module": "@jupyter-widgets/base",
            "_model_module_version": "1.5.0",
            "_view_count": null,
            "_view_module_version": "1.2.0",
            "bar_color": null,
            "_model_module": "@jupyter-widgets/controls"
          }
        },
        "ba397227d6d54f19b497f68f2126d3af": {
          "model_module": "@jupyter-widgets/base",
          "model_name": "LayoutModel",
          "state": {
            "_view_name": "LayoutView",
            "grid_template_rows": null,
            "right": null,
            "justify_content": null,
            "_view_module": "@jupyter-widgets/base",
            "overflow": null,
            "_model_module_version": "1.2.0",
            "_view_count": null,
            "flex_flow": null,
            "width": null,
            "min_width": null,
            "border": null,
            "align_items": null,
            "bottom": null,
            "_model_module": "@jupyter-widgets/base",
            "top": null,
            "grid_column": null,
            "overflow_y": null,
            "overflow_x": null,
            "grid_auto_flow": null,
            "grid_area": null,
            "grid_template_columns": null,
            "flex": null,
            "_model_name": "LayoutModel",
            "justify_items": null,
            "grid_row": null,
            "max_height": null,
            "align_content": null,
            "visibility": null,
            "align_self": null,
            "height": null,
            "min_height": null,
            "padding": null,
            "grid_auto_rows": null,
            "grid_gap": null,
            "max_width": null,
            "order": null,
            "_view_module_version": "1.2.0",
            "grid_template_areas": null,
            "object_position": null,
            "object_fit": null,
            "grid_auto_columns": null,
            "margin": null,
            "display": null,
            "left": null
          }
        },
        "2e65ffdf41f64725bec979f27c29d1ac": {
          "model_module": "@jupyter-widgets/controls",
          "model_name": "DescriptionStyleModel",
          "state": {
            "_view_name": "StyleView",
            "_model_name": "DescriptionStyleModel",
            "description_width": "",
            "_view_module": "@jupyter-widgets/base",
            "_model_module_version": "1.5.0",
            "_view_count": null,
            "_view_module_version": "1.2.0",
            "_model_module": "@jupyter-widgets/controls"
          }
        },
        "64ccbd8f23f34e3d965d8594d15e21eb": {
          "model_module": "@jupyter-widgets/base",
          "model_name": "LayoutModel",
          "state": {
            "_view_name": "LayoutView",
            "grid_template_rows": null,
            "right": null,
            "justify_content": null,
            "_view_module": "@jupyter-widgets/base",
            "overflow": null,
            "_model_module_version": "1.2.0",
            "_view_count": null,
            "flex_flow": null,
            "width": null,
            "min_width": null,
            "border": null,
            "align_items": null,
            "bottom": null,
            "_model_module": "@jupyter-widgets/base",
            "top": null,
            "grid_column": null,
            "overflow_y": null,
            "overflow_x": null,
            "grid_auto_flow": null,
            "grid_area": null,
            "grid_template_columns": null,
            "flex": null,
            "_model_name": "LayoutModel",
            "justify_items": null,
            "grid_row": null,
            "max_height": null,
            "align_content": null,
            "visibility": null,
            "align_self": null,
            "height": null,
            "min_height": null,
            "padding": null,
            "grid_auto_rows": null,
            "grid_gap": null,
            "max_width": null,
            "order": null,
            "_view_module_version": "1.2.0",
            "grid_template_areas": null,
            "object_position": null,
            "object_fit": null,
            "grid_auto_columns": null,
            "margin": null,
            "display": null,
            "left": null
          }
        },
        "d3d42ee50130434ba905aa59290c5afd": {
          "model_module": "@jupyter-widgets/controls",
          "model_name": "HBoxModel",
          "state": {
            "_view_name": "HBoxView",
            "_dom_classes": [],
            "_model_name": "HBoxModel",
            "_view_module": "@jupyter-widgets/controls",
            "_model_module_version": "1.5.0",
            "_view_count": null,
            "_view_module_version": "1.5.0",
            "box_style": "",
            "layout": "IPY_MODEL_4493a1d7452a4caa82307aee3ef1f2f5",
            "_model_module": "@jupyter-widgets/controls",
            "children": [
              "IPY_MODEL_339196397d5242a19e08d4e8a6d3d870",
              "IPY_MODEL_6879be3d6aa9498f8d40f77bfd3ae95b"
            ]
          }
        },
        "4493a1d7452a4caa82307aee3ef1f2f5": {
          "model_module": "@jupyter-widgets/base",
          "model_name": "LayoutModel",
          "state": {
            "_view_name": "LayoutView",
            "grid_template_rows": null,
            "right": null,
            "justify_content": null,
            "_view_module": "@jupyter-widgets/base",
            "overflow": null,
            "_model_module_version": "1.2.0",
            "_view_count": null,
            "flex_flow": null,
            "width": null,
            "min_width": null,
            "border": null,
            "align_items": null,
            "bottom": null,
            "_model_module": "@jupyter-widgets/base",
            "top": null,
            "grid_column": null,
            "overflow_y": null,
            "overflow_x": null,
            "grid_auto_flow": null,
            "grid_area": null,
            "grid_template_columns": null,
            "flex": null,
            "_model_name": "LayoutModel",
            "justify_items": null,
            "grid_row": null,
            "max_height": null,
            "align_content": null,
            "visibility": null,
            "align_self": null,
            "height": null,
            "min_height": null,
            "padding": null,
            "grid_auto_rows": null,
            "grid_gap": null,
            "max_width": null,
            "order": null,
            "_view_module_version": "1.2.0",
            "grid_template_areas": null,
            "object_position": null,
            "object_fit": null,
            "grid_auto_columns": null,
            "margin": null,
            "display": null,
            "left": null
          }
        },
        "339196397d5242a19e08d4e8a6d3d870": {
          "model_module": "@jupyter-widgets/controls",
          "model_name": "FloatProgressModel",
          "state": {
            "_view_name": "ProgressView",
            "style": "IPY_MODEL_0e2d74cdce8342078230b86474e6404c",
            "_dom_classes": [],
            "description": "Downloading: 100%",
            "_model_name": "FloatProgressModel",
            "bar_style": "success",
            "max": 2951710928,
            "_view_module": "@jupyter-widgets/controls",
            "_model_module_version": "1.5.0",
            "value": 2951710928,
            "_view_count": null,
            "_view_module_version": "1.5.0",
            "orientation": "horizontal",
            "min": 0,
            "description_tooltip": null,
            "_model_module": "@jupyter-widgets/controls",
            "layout": "IPY_MODEL_790f6abe337f43b0a621cea927f6a4eb"
          }
        },
        "6879be3d6aa9498f8d40f77bfd3ae95b": {
          "model_module": "@jupyter-widgets/controls",
          "model_name": "HTMLModel",
          "state": {
            "_view_name": "HTMLView",
            "style": "IPY_MODEL_4982c9702d9c40a9b5658d2dddc78d4f",
            "_dom_classes": [],
            "description": "",
            "_model_name": "HTMLModel",
            "placeholder": "​",
            "_view_module": "@jupyter-widgets/controls",
            "_model_module_version": "1.5.0",
            "value": " 2.95G/2.95G [01:22&lt;00:00, 35.8MB/s]",
            "_view_count": null,
            "_view_module_version": "1.5.0",
            "description_tooltip": null,
            "_model_module": "@jupyter-widgets/controls",
            "layout": "IPY_MODEL_7c734f48e9d14db0b1062b81710c2177"
          }
        },
        "0e2d74cdce8342078230b86474e6404c": {
          "model_module": "@jupyter-widgets/controls",
          "model_name": "ProgressStyleModel",
          "state": {
            "_view_name": "StyleView",
            "_model_name": "ProgressStyleModel",
            "description_width": "initial",
            "_view_module": "@jupyter-widgets/base",
            "_model_module_version": "1.5.0",
            "_view_count": null,
            "_view_module_version": "1.2.0",
            "bar_color": null,
            "_model_module": "@jupyter-widgets/controls"
          }
        },
        "790f6abe337f43b0a621cea927f6a4eb": {
          "model_module": "@jupyter-widgets/base",
          "model_name": "LayoutModel",
          "state": {
            "_view_name": "LayoutView",
            "grid_template_rows": null,
            "right": null,
            "justify_content": null,
            "_view_module": "@jupyter-widgets/base",
            "overflow": null,
            "_model_module_version": "1.2.0",
            "_view_count": null,
            "flex_flow": null,
            "width": null,
            "min_width": null,
            "border": null,
            "align_items": null,
            "bottom": null,
            "_model_module": "@jupyter-widgets/base",
            "top": null,
            "grid_column": null,
            "overflow_y": null,
            "overflow_x": null,
            "grid_auto_flow": null,
            "grid_area": null,
            "grid_template_columns": null,
            "flex": null,
            "_model_name": "LayoutModel",
            "justify_items": null,
            "grid_row": null,
            "max_height": null,
            "align_content": null,
            "visibility": null,
            "align_self": null,
            "height": null,
            "min_height": null,
            "padding": null,
            "grid_auto_rows": null,
            "grid_gap": null,
            "max_width": null,
            "order": null,
            "_view_module_version": "1.2.0",
            "grid_template_areas": null,
            "object_position": null,
            "object_fit": null,
            "grid_auto_columns": null,
            "margin": null,
            "display": null,
            "left": null
          }
        },
        "4982c9702d9c40a9b5658d2dddc78d4f": {
          "model_module": "@jupyter-widgets/controls",
          "model_name": "DescriptionStyleModel",
          "state": {
            "_view_name": "StyleView",
            "_model_name": "DescriptionStyleModel",
            "description_width": "",
            "_view_module": "@jupyter-widgets/base",
            "_model_module_version": "1.5.0",
            "_view_count": null,
            "_view_module_version": "1.2.0",
            "_model_module": "@jupyter-widgets/controls"
          }
        },
        "7c734f48e9d14db0b1062b81710c2177": {
          "model_module": "@jupyter-widgets/base",
          "model_name": "LayoutModel",
          "state": {
            "_view_name": "LayoutView",
            "grid_template_rows": null,
            "right": null,
            "justify_content": null,
            "_view_module": "@jupyter-widgets/base",
            "overflow": null,
            "_model_module_version": "1.2.0",
            "_view_count": null,
            "flex_flow": null,
            "width": null,
            "min_width": null,
            "border": null,
            "align_items": null,
            "bottom": null,
            "_model_module": "@jupyter-widgets/base",
            "top": null,
            "grid_column": null,
            "overflow_y": null,
            "overflow_x": null,
            "grid_auto_flow": null,
            "grid_area": null,
            "grid_template_columns": null,
            "flex": null,
            "_model_name": "LayoutModel",
            "justify_items": null,
            "grid_row": null,
            "max_height": null,
            "align_content": null,
            "visibility": null,
            "align_self": null,
            "height": null,
            "min_height": null,
            "padding": null,
            "grid_auto_rows": null,
            "grid_gap": null,
            "max_width": null,
            "order": null,
            "_view_module_version": "1.2.0",
            "grid_template_areas": null,
            "object_position": null,
            "object_fit": null,
            "grid_auto_columns": null,
            "margin": null,
            "display": null,
            "left": null
          }
        }
      }
    }
  },
  "cells": [
    {
      "cell_type": "markdown",
      "metadata": {
        "id": "view-in-github",
        "colab_type": "text"
      },
      "source": [
        "<a href=\"https://colab.research.google.com/github/gpadem/algorhythm_use_case/blob/main/book_split.ipynb\" target=\"_parent\"><img src=\"https://colab.research.google.com/assets/colab-badge.svg\" alt=\"Open In Colab\"/></a>"
      ]
    },
    {
      "cell_type": "code",
      "metadata": {
        "colab": {
          "base_uri": "https://localhost:8080/"
        },
        "id": "06ZKoAMNhMJc",
        "outputId": "d4d10a15-c842-4836-a8cf-57425f61e0d4"
      },
      "source": [
        "import torch\n",
        "torch.cuda.is_available()"
      ],
      "execution_count": 36,
      "outputs": [
        {
          "output_type": "execute_result",
          "data": {
            "text/plain": [
              "True"
            ]
          },
          "metadata": {},
          "execution_count": 36
        }
      ]
    },
    {
      "cell_type": "code",
      "metadata": {
        "colab": {
          "base_uri": "https://localhost:8080/"
        },
        "id": "mEwv7UJohkn-",
        "outputId": "eb88c5d6-492b-4189-c7b3-e696919d07cb"
      },
      "source": [
        "!pip install transformers"
      ],
      "execution_count": 3,
      "outputs": [
        {
          "output_type": "stream",
          "text": [
            "Collecting transformers\n",
            "\u001b[?25l  Downloading https://files.pythonhosted.org/packages/d8/b2/57495b5309f09fa501866e225c84532d1fd89536ea62406b2181933fb418/transformers-4.5.1-py3-none-any.whl (2.1MB)\n",
            "\u001b[K     |████████████████████████████████| 2.1MB 9.1MB/s \n",
            "\u001b[?25hRequirement already satisfied: filelock in /usr/local/lib/python3.7/dist-packages (from transformers) (3.0.12)\n",
            "Collecting sacremoses\n",
            "\u001b[?25l  Downloading https://files.pythonhosted.org/packages/75/ee/67241dc87f266093c533a2d4d3d69438e57d7a90abb216fa076e7d475d4a/sacremoses-0.0.45-py3-none-any.whl (895kB)\n",
            "\u001b[K     |████████████████████████████████| 901kB 47.5MB/s \n",
            "\u001b[?25hRequirement already satisfied: packaging in /usr/local/lib/python3.7/dist-packages (from transformers) (20.9)\n",
            "Requirement already satisfied: regex!=2019.12.17 in /usr/local/lib/python3.7/dist-packages (from transformers) (2019.12.20)\n",
            "Collecting tokenizers<0.11,>=0.10.1\n",
            "\u001b[?25l  Downloading https://files.pythonhosted.org/packages/ae/04/5b870f26a858552025a62f1649c20d29d2672c02ff3c3fb4c688ca46467a/tokenizers-0.10.2-cp37-cp37m-manylinux2010_x86_64.whl (3.3MB)\n",
            "\u001b[K     |████████████████████████████████| 3.3MB 55.6MB/s \n",
            "\u001b[?25hRequirement already satisfied: importlib-metadata; python_version < \"3.8\" in /usr/local/lib/python3.7/dist-packages (from transformers) (3.10.1)\n",
            "Requirement already satisfied: requests in /usr/local/lib/python3.7/dist-packages (from transformers) (2.23.0)\n",
            "Requirement already satisfied: numpy>=1.17 in /usr/local/lib/python3.7/dist-packages (from transformers) (1.19.5)\n",
            "Requirement already satisfied: tqdm>=4.27 in /usr/local/lib/python3.7/dist-packages (from transformers) (4.41.1)\n",
            "Requirement already satisfied: click in /usr/local/lib/python3.7/dist-packages (from sacremoses->transformers) (7.1.2)\n",
            "Requirement already satisfied: joblib in /usr/local/lib/python3.7/dist-packages (from sacremoses->transformers) (1.0.1)\n",
            "Requirement already satisfied: six in /usr/local/lib/python3.7/dist-packages (from sacremoses->transformers) (1.15.0)\n",
            "Requirement already satisfied: pyparsing>=2.0.2 in /usr/local/lib/python3.7/dist-packages (from packaging->transformers) (2.4.7)\n",
            "Requirement already satisfied: typing-extensions>=3.6.4; python_version < \"3.8\" in /usr/local/lib/python3.7/dist-packages (from importlib-metadata; python_version < \"3.8\"->transformers) (3.7.4.3)\n",
            "Requirement already satisfied: zipp>=0.5 in /usr/local/lib/python3.7/dist-packages (from importlib-metadata; python_version < \"3.8\"->transformers) (3.4.1)\n",
            "Requirement already satisfied: urllib3!=1.25.0,!=1.25.1,<1.26,>=1.21.1 in /usr/local/lib/python3.7/dist-packages (from requests->transformers) (1.24.3)\n",
            "Requirement already satisfied: chardet<4,>=3.0.2 in /usr/local/lib/python3.7/dist-packages (from requests->transformers) (3.0.4)\n",
            "Requirement already satisfied: certifi>=2017.4.17 in /usr/local/lib/python3.7/dist-packages (from requests->transformers) (2020.12.5)\n",
            "Requirement already satisfied: idna<3,>=2.5 in /usr/local/lib/python3.7/dist-packages (from requests->transformers) (2.10)\n",
            "Installing collected packages: sacremoses, tokenizers, transformers\n",
            "Successfully installed sacremoses-0.0.45 tokenizers-0.10.2 transformers-4.5.1\n"
          ],
          "name": "stdout"
        }
      ]
    },
    {
      "cell_type": "code",
      "metadata": {
        "id": "gKkPiiR7hloX"
      },
      "source": [
        "from transformers import pipeline"
      ],
      "execution_count": 2,
      "outputs": []
    },
    {
      "cell_type": "code",
      "metadata": {
        "id": "Kmvo8GjphsVm"
      },
      "source": [
        "from bs4 import BeautifulSoup\n",
        "import requests"
      ],
      "execution_count": 4,
      "outputs": []
    },
    {
      "cell_type": "code",
      "metadata": {
        "id": "71gASvPJhxSk"
      },
      "source": [
        "# Around the world in 80 days from Jules Verne\n",
        "book_url = \"https://www.gutenberg.org/files/103/103-h/103-h.htm\""
      ],
      "execution_count": 5,
      "outputs": []
    },
    {
      "cell_type": "code",
      "metadata": {
        "id": "TnisBGoVhz-4"
      },
      "source": [
        "r = requests.get(book_url, 'utf-8')"
      ],
      "execution_count": 6,
      "outputs": []
    },
    {
      "cell_type": "code",
      "metadata": {
        "id": "djUGTyQBh4mV"
      },
      "source": [
        "soup = BeautifulSoup(r.text, 'html.parser')\n",
        "results = soup.find_all(['h1', 'h3', 'p'])\n",
        "text = [result.text for result in results]\n",
        "BOOK = ' '.join(text).replace(\"\\r\\n\", \" \")"
      ],
      "execution_count": 7,
      "outputs": []
    },
    {
      "cell_type": "code",
      "metadata": {
        "id": "cUwpnnTdnOZt"
      },
      "source": [
        "import re"
      ],
      "execution_count": 8,
      "outputs": []
    },
    {
      "cell_type": "code",
      "metadata": {
        "id": "fBBIetICh52H"
      },
      "source": [
        "chapters = re.split(\"Chapter\\s\", BOOK)"
      ],
      "execution_count": 9,
      "outputs": []
    },
    {
      "cell_type": "code",
      "metadata": {
        "colab": {
          "base_uri": "https://localhost:8080/"
        },
        "id": "8BlhFcKrn26_",
        "outputId": "8a688f4f-8200-4d88-ad2d-a4777e7364cf"
      },
      "source": [
        "chapters"
      ],
      "execution_count": 10,
      "outputs": [
        {
          "output_type": "execute_result",
          "data": {
            "text/plain": [
              " great had been the expense of his tour that, even had he won, it would not have enriched him; and it is probable that he had not sought to enrich himself, being a man who rather laid wagers for honour\\'s sake than for the stake proposed.  But this wager totally ruined him.   Mr. Fogg\\'s course, however, was fully decided upon; he knew what remained for him to do.   A room in the house in Saville Row was set apart for Aouda, who was overwhelmed with grief at her protector\\'s misfortune.  From the words which Mr. Fogg dropped, she saw that he was meditating some serious project.   Knowing that Englishmen governed by a fixed idea sometimes resort to the desperate expedient of suicide, Passepartout kept a narrow watch upon his master, though he carefully concealed the appearance of so doing.   First of all, the worthy fellow had gone up to his room, and had extinguished the gas burner, which had been burning for eighty days. He had found in the letter-box a bill from the gas company, and he thought it more than time to put a stop to this expense, which he had been doomed to bear.   The night passed.  Mr. Fogg went to bed, but did he sleep?  Aouda did not once close her eyes.  Passepartout watched all night, like a faithful dog, at his master\\'s door.   Mr. Fogg called him in the morning, and told him to get Aouda\\'s breakfast, and a cup of tea and a chop for himself.  He desired Aouda to excuse him from breakfast and dinner, as his time would be absorbed all day in putting his affairs to rights.  In the evening he would ask permission to have a few moment\\'s conversation with the young lady.   Passepartout, having received his orders, had nothing to do but obey them.  He looked at his imperturbable master, and could scarcely bring his mind to leave him.  His heart was full, and his conscience tortured by remorse; for he accused himself more bitterly than ever of being the cause of the irretrievable disaster.  Yes! if he had warned Mr. Fogg, and had betrayed Fix\\'s projects to him, his master would certainly not have given the detective passage to Liverpool, and then—   Passepartout could hold in no longer.   \"My master!  Mr. Fogg!\" he cried, \"why do you not curse me?  It was my fault that—\"   \"I blame no one,\" returned Phileas Fogg, with perfect calmness.  \"Go!\"   Passepartout left the room, and went to find Aouda, to whom he delivered his master\\'s message.   \"Madam,\" he added, \"I can do nothing myself—nothing!  I have no influence over my master; but you, perhaps—\"   \"What influence could I have?\" replied Aouda.  \"Mr. Fogg is influenced by no one.  Has he ever understood that my gratitude to him is overflowing?  Has he ever read my heart?  My friend, he must not be left alone an instant!  You say he is going to speak with me this evening?\"   \"Yes, madam; probably to arrange for your protection and comfort in England.\"   \"We shall see,\" replied Aouda, becoming suddenly pensive.   Throughout this day (Sunday) the house in Saville Row was as if uninhabited, and Phileas Fogg, for the first time since he had lived in that house, did not set out for his club when Westminster clock struck half-past eleven.   Why should he present himself at the Reform?  His friends no longer expected him there.  As Phileas Fogg had not appeared in the saloon on the evening before (Saturday, the 21st of December, at a quarter before nine), he had lost his wager.  It was not even necessary that he should go to his bankers for the twenty thousand pounds; for his antagonists already had his cheque in their hands, and they had only to fill it out and send it to the Barings to have the amount transferred to their credit.   Mr. Fogg, therefore, had no reason for going out, and so he remained at home.  He shut himself up in his room, and busied himself putting his affairs in order.  Passepartout continually ascended and descended the stairs.  The hours were long for him. He listened at his master\\'s door, and looked through the keyhole, as if he had a perfect right so to do, and as if he feared that something terrible might happen at any moment. Sometimes he thought of Fix, but no longer in anger.  Fix, like all the world, had been mistaken in Phileas Fogg, and had only done his duty in tracking and arresting him; while he, Passepartout. . . .  This thought haunted him, and he never ceased cursing his miserable folly.   Finding himself too wretched to remain alone, he knocked at Aouda\\'s door, went into her room, seated himself, without speaking, in a corner, and looked ruefully at the young woman. Aouda was still pensive.   About half-past seven in the evening Mr. Fogg sent to know if Aouda would receive him, and in a few moments he found himself alone with her.   Phileas Fogg took a chair, and sat down near the fireplace, opposite Aouda.  No emotion was visible on his face.  Fogg returned was exactly the Fogg who had gone away; there was the same calm, the same impassibility.   He sat several minutes without speaking; then, bending his eyes on Aouda, \"Madam,\" said he, \"will you pardon me for bringing you to England?\"   \"I, Mr. Fogg!\" replied Aouda, checking the pulsations of her heart.   \"Please let me finish,\" returned Mr. Fogg.  \"When I decided to bring you far away from the country which was so unsafe for you, I was rich, and counted on putting a portion of my fortune at your disposal; then your existence would have been free and happy.  But now I am ruined.\"   \"I know it, Mr. Fogg,\" replied Aouda; \"and I ask you in my turn, will you forgive me for having followed you, and—who knows?—for having, perhaps, delayed you, and thus contributed to your ruin?\"   \"Madam, you could not remain in India, and your safety could only be assured by bringing you to such a distance that your persecutors could not take you.\"   \"So, Mr. Fogg,\" resumed Aouda, \"not content with rescuing me from a terrible death, you thought yourself bound to secure my comfort in a foreign land?\"   \"Yes, madam; but circumstances have been against me.  Still, I beg to place the little I have left at your service.\"   \"But what will become of you, Mr. Fogg?\"   \"As for me, madam,\" replied the gentleman, coldly, \"I have need of nothing.\"   \"But how do you look upon the fate, sir, which awaits you?\"   \"As I am in the habit of doing.\"   \"At least,\" said Aouda, \"want should not overtake a man like you.  Your friends—\"   \"I have no friends, madam.\"   \"Your relatives—\"   \"I have no longer any relatives.\"   \"I pity you, then, Mr. Fogg, for solitude is a sad thing, with no heart to which to confide your griefs.  They say, though, that misery itself, shared by two sympathetic souls, may be borne with patience.\"   \"They say so, madam.\"   \"Mr. Fogg,\" said Aouda, rising and seizing his hand, \"do you wish at once a kinswoman and friend?  Will you have me for your wife?\"   Mr. Fogg, at this, rose in his turn.  There was an unwonted light in his eyes, and a slight trembling of his lips.  Aouda looked into his face.  The sincerity, rectitude, firmness, and sweetness of this soft glance of a noble woman, who could dare all to save him to whom she owed all, at first astonished, then penetrated him.  He shut his eyes for an instant, as if to avoid her look.  When he opened them again, \"I love you!\" he said, simply.  \"Yes, by all that is holiest, I love you, and I am entirely yours!\"   \"Ah!\" cried Aouda, pressing his hand to her heart.   Passepartout was summoned and appeared immediately.  Mr. Fogg still held Aouda\\'s hand in his own; Passepartout understood, and his big, round face became as radiant as the tropical sun at its zenith.   Mr. Fogg asked him if it was not too late to notify the Reverend Samuel Wilson, of Marylebone parish, that evening.   Passepartout smiled his most genial smile, and said, \"Never too late.\"   It was five minutes past eight.   \"Will it be for to-morrow, Monday?\"   \"For to-morrow, Monday,\" said Mr. Fogg, turning to Aouda.   \"Yes; for to-morrow, Monday,\" she replied.   Passepartout hurried off as fast as his legs could carry him.   ',\n",
              " 'XXXVI   It is time to relate what a change took place in English public opinion when it transpired that the real bankrobber, a certain James Strand, had been arrested, on the 17th day of December, at Edinburgh.  Three days before, Phileas Fogg had been a criminal, who was being desperately followed up by the police; now he was an honourable gentleman, mathematically pursuing his eccentric journey round the world.   The papers resumed their discussion about the wager; all those who had laid bets, for or against him, revived their interest, as if by magic; the \"Phileas Fogg bonds\" again became negotiable, and many new wagers were made.  Phileas Fogg\\'s name was once more at a premium on \\'Change.   His five friends of the Reform Club passed these three days in a state of feverish suspense.  Would Phileas Fogg, whom they had forgotten, reappear before their eyes!  Where was he at this moment?  The 17th of December, the day of James Strand\\'s arrest, was the seventy-sixth since Phileas Fogg\\'s departure, and no news of him had been received.  Was he dead?  Had he abandoned the effort, or was he continuing his journey along the route agreed upon?  And would he appear on Saturday, the 21st of December, at a quarter before nine in the evening, on the threshold of the Reform Club saloon?   The anxiety in which, for three days, London society existed, cannot be described.  Telegrams were sent to America and Asia for news of Phileas Fogg.  Messengers were dispatched to the house in Saville Row morning and evening.  No news.  The police were ignorant what had become of the detective, Fix, who had so unfortunately followed up a false scent. Bets increased, nevertheless, in number and value.  Phileas Fogg, like a racehorse, was drawing near his last turning-point.  The bonds were quoted, no longer at a hundred below par, but at twenty, at ten, and at five; and paralytic old Lord Albemarle bet even in his favour.   A great crowd was collected in Pall Mall and the neighbouring streets on Saturday evening; it seemed like a multitude of brokers permanently established around the Reform Club.  Circulation was impeded, and everywhere disputes, discussions, and financial transactions were going on.  The police had great difficulty in keeping back the crowd, and as the hour when Phileas Fogg was due approached, the excitement rose to its highest pitch.   The five antagonists of Phileas Fogg had met in the great saloon of the club.  John Sullivan and Samuel Fallentin, the bankers, Andrew Stuart, the engineer, Gauthier Ralph, the director of the Bank of England, and Thomas Flanagan, the brewer, one and all waited anxiously.   When the clock indicated twenty minutes past eight, Andrew Stuart got up, saying, \"Gentlemen, in twenty minutes the time agreed upon between Mr. Fogg and ourselves will have expired.\"   \"What time did the last train arrive from Liverpool?\"  asked Thomas Flanagan.   \"At twenty-three minutes past seven,\" replied Gauthier Ralph; \"and the next does not arrive till ten minutes after twelve.\"   \"Well, gentlemen,\" resumed Andrew Stuart, \"if Phileas Fogg had come in the 7:23 train, he would have got here by this time.  We can, therefore, regard the bet as won.\"   \"Wait; don\\'t let us be too hasty,\" replied Samuel Fallentin.  \"You know that Mr. Fogg is very eccentric.  His punctuality is well known; he never arrives too soon, or too late; and I should not be surprised if he appeared before us at the last minute.\"   \"Why,\" said Andrew Stuart nervously, \"if I should see him, I should not believe it was he.\"   \"The fact is,\" resumed Thomas Flanagan, \"Mr. Fogg\\'s project was absurdly foolish.  Whatever his punctuality, he could not prevent the delays which were certain to occur; and a delay of only two or three days would be fatal to his tour.\"   \"Observe, too,\" added John Sullivan, \"that we have received no intelligence from him, though there are telegraphic lines all along his route.\"   \"He has lost, gentleman,\" said Andrew Stuart, \"he has a hundred times lost!  You know, besides, that the China the only steamer he could have taken from New York to get here in time arrived yesterday.  I have seen a list of the passengers, and the name of Phileas Fogg is not among them.  Even if we admit that fortune has favoured him, he can scarcely have reached America.  I think he will be at least twenty days behind-hand, and that Lord Albemarle will lose a cool five thousand.\"   \"It is clear,\" replied Gauthier Ralph; \"and we have nothing to do but to present Mr. Fogg\\'s cheque at Barings to-morrow.\"   At this moment, the hands of the club clock pointed to twenty minutes to nine.   \"Five minutes more,\" said Andrew Stuart.   The five gentlemen looked at each other.  Their anxiety was becoming intense; but, not wishing to betray it, they readily assented to Mr. Fallentin\\'s proposal of a rubber.   \"I wouldn\\'t give up my four thousand of the bet,\" said Andrew Stuart, as he took his seat, \"for three thousand nine hundred and ninety-nine.\"   The clock indicated eighteen minutes to nine.   The players took up their cards, but could not keep their eyes off the clock.  Certainly, however secure they felt, minutes had never seemed so long to them!   \"Seventeen minutes to nine,\" said Thomas Flanagan, as he cut the cards which Ralph handed to him.   Then there was a moment of silence.  The great saloon was perfectly quiet; but the murmurs of the crowd outside were heard, with now and then a shrill cry.  The pendulum beat the seconds, which each player eagerly counted, as he listened, with mathematical regularity.   \"Sixteen minutes to nine!\" said John Sullivan, in a voice which betrayed his emotion.   One minute more, and the wager would be won.  Andrew Stuart and his partners suspended their game.  They left their cards, and counted the seconds.   At the fortieth second, nothing.  At the fiftieth, still nothing.   At the fifty-fifth, a loud cry was heard in the street, followed by applause, hurrahs, and some fierce growls.   The players rose from their seats.   At the fifty-seventh second the door of the saloon opened; and the pendulum had not beat the sixtieth second when Phileas Fogg appeared, followed by an excited crowd who had forced their way through the club doors, and in his calm voice, said, \"Here I am, gentlemen!\"   ',\n",
              " 'XXXVII   Yes; Phileas Fogg in person.   The reader will remember that at five minutes past eight in the evening—about five and twenty hours after the arrival of the travellers in London—Passepartout had been sent by his master to engage the services of the Reverend Samuel Wilson in a certain marriage ceremony, which was to take place the next day.   Passepartout went on his errand enchanted.  He soon reached the clergyman\\'s house, but found him not at home.  Passepartout waited a good twenty minutes, and when he left the reverend gentleman, it was thirty-five minutes past eight.  But in what a state he was!  With his hair in disorder, and without his hat, he ran along the street as never man was seen to run before, overturning passers-by, rushing over the sidewalk like a waterspout.   In three minutes he was in Saville Row again, and staggered back into Mr. Fogg\\'s room.   He could not speak.   \"What is the matter?\" asked Mr. Fogg.   \"My master!\" gasped Passepartout—\"marriage—impossible—\"   \"Impossible?\"   \"Impossible—for to-morrow.\"   \"Why so?\"   \"Because to-morrow—is Sunday!\"   \"Monday,\" replied Mr. Fogg.   \"No—to-day is Saturday.\"   \"Saturday?  Impossible!\"   \"Yes, yes, yes, yes!\" cried Passepartout.  \"You have made a mistake of one day!  We arrived twenty-four hours ahead of time; but there are only ten minutes left!\"   Passepartout had seized his master by the collar, and was dragging him along with irresistible force.   Phileas Fogg, thus kidnapped, without having time to think, left his house, jumped into a cab, promised a hundred pounds to the cabman, and, having run over two dogs and overturned five carriages, reached the Reform Club.   The clock indicated a quarter before nine when he appeared in the great saloon.   Phileas Fogg had accomplished the journey round the world in eighty days!   Phileas Fogg had won his wager of twenty thousand pounds!   How was it that a man so exact and fastidious could have made this error of a day?  How came he to think that he had arrived in London on Saturday, the twenty-first day of December, when it was really Friday, the twentieth, the seventy-ninth day only from his departure?   The cause of the error is very simple.   Phileas Fogg had, without suspecting it, gained one day on his journey, and this merely because he had travelled constantly eastward; he would, on the contrary, have lost a day had he gone in the opposite direction, that is, westward.   In journeying eastward he had gone towards the sun, and the days therefore diminished for him as many times four minutes as he crossed degrees in this direction.  There are three hundred and sixty degrees on the circumference of the earth; and these three hundred and sixty degrees, multiplied by four minutes, gives precisely twenty-four hours—that is, the day unconsciously gained.  In other words, while Phileas Fogg, going eastward, saw the sun pass the meridian eighty times, his friends in London only saw it pass the meridian seventy-nine times.  This is why they awaited him at the Reform Club on Saturday, and not Sunday, as Mr. Fogg thought.   And Passepartout\\'s famous family watch, which had always kept London time, would have betrayed this fact, if it had marked the days as well as the hours and the minutes!   Phileas Fogg, then, had won the twenty thousand pounds; but, as he had spent nearly nineteen thousand on the way, the pecuniary gain was small.  His object was, however, to be victorious, and not to win money.  He divided the one thousand pounds that remained between Passepartout and the unfortunate Fix, against whom he cherished no grudge.  He deducted, however, from Passepartout\\'s share the cost of the gas which had burned in his room for nineteen hundred and twenty hours, for the sake of regularity.   That evening, Mr. Fogg, as tranquil and phlegmatic as ever, said to Aouda: \"Is our marriage still agreeable to you?\"   \"Mr. Fogg,\" replied she, \"it is for me to ask that question.  You were ruined, but now you are rich again.\"   \"Pardon me, madam; my fortune belongs to you.  If you had not suggested our marriage, my servant would not have gone to the Reverend Samuel Wilson\\'s, I should not have been apprised of my error, and—\"   \"Dear Mr. Fogg!\" said the young woman.   \"Dear Aouda!\" replied Phileas Fogg.   It need not be said that the marriage took place forty-eight hours after, and that Passepartout, glowing and dazzling, gave the bride away.  Had he not saved her, and was he not entitled to this honour?   The next day, as soon as it was light, Passepartout rapped vigorously at his master\\'s door.  Mr. Fogg opened it, and asked, \"What\\'s the matter, Passepartout?\"   \"What is it, sir?  Why, I\\'ve just this instant found out—\"   \"What?\"   \"That we might have made the tour of the world in only seventy-eight days.\"   \"No doubt,\" returned Mr. Fogg, \"by not crossing India.  But if I had not crossed India, I should not have saved Aouda; she would not have been my wife, and—\"   Mr. Fogg quietly shut the door.   Phileas Fogg had won his wager, and had made his journey around the world in eighty days.  To do this he had employed every means of conveyance—steamers, railways, carriages, yachts, trading-vessels, sledges, elephants.  The eccentric gentleman had throughout displayed all his marvellous qualities of coolness and exactitude.  But what then?  What had he really gained by all this trouble?  What had he brought back from this long and weary journey?   Nothing, say you?  Perhaps so; nothing but a charming woman, who, strange as it may appear, made him the happiest of men!   Truly, would you not for less than that make the tour around the world? ']"
            ]
          },
          "metadata": {},
          "execution_count": 10
        }
      ]
    },
    {
      "cell_type": "code",
      "metadata": {
        "colab": {
          "base_uri": "https://localhost:8080/"
        },
        "id": "skcfucpOn4ar",
        "outputId": "27ea011b-04f2-4fff-82dd-8df215cb4033"
      },
      "source": [
        "len(chapters)"
      ],
      "execution_count": 11,
      "outputs": [
        {
          "output_type": "execute_result",
          "data": {
            "text/plain": [
              "38"
            ]
          },
          "metadata": {},
          "execution_count": 11
        }
      ]
    },
    {
      "cell_type": "code",
      "metadata": {
        "id": "rLdWMiuMoQce"
      },
      "source": [
        "from pandas import DataFrame"
      ],
      "execution_count": 13,
      "outputs": []
    },
    {
      "cell_type": "code",
      "metadata": {
        "colab": {
          "base_uri": "https://localhost:8080/"
        },
        "id": "rK1QeOdUqJn6",
        "outputId": "9b452339-8075-49ff-f142-9d71d5982953"
      },
      "source": [
        "df = DataFrame (chapters ,columns=['chapters'])\n",
        "print (df)"
      ],
      "execution_count": 14,
      "outputs": [
        {
          "output_type": "stream",
          "name": "stdout",
          "text": [
            "                                             chapters\n0             AROUND THE WORLD IN EIGHTY DAYS   By   \n1   I   Mr. Phileas Fogg lived, in 1872, at No. 7,...\n2   II   \"Faith,\" muttered Passepartout, somewhat ...\n3   III   Phileas Fogg, having shut the door of hi...\n4   IV   Having won twenty guineas at whist, and t...\n5   V   Phileas Fogg rightly suspected that his de...\n6   VI   The circumstances under which this telegr...\n7   VII   The detective passed down the quay, and ...\n8   VIII   Fix soon rejoined Passepartout, who was...\n9   IX   The distance between Suez and Aden is pre...\n10  X   Everybody knows that the great reversed tr...\n11  XI   The train had started punctually.  Among ...\n12  XII   In order to shorten the journey, the gui...\n13  XIII   The project was a bold one, full of dif...\n14  XIV   The rash exploit had been accomplished; ...\n15  XV   The train entered the station, and Passep...\n16  XVI   The Rangoon—one of the Peninsular and Or...\n17  XVII   The detective and Passepartout met ofte...\n18  XVIII   The weather was bad during the latter ...\n19  XIX   Hong Kong is an island which came into t...\n20  XX   While these events were passing at the op...\n21  XXI   This voyage of eight hundred miles was a...\n22  XXII   The Carnatic, setting sail from Hong Ko...\n23  XXIII   The next morning poor, jaded, famished...\n24  XXIV   What happened when the pilot-boat came ...\n25  XXV   It was seven in the morning when Mr. Fog...\n26  XXVI   \"From ocean to ocean\"—so say the Americ...\n27  XXVII   During the night of the 5th of Decembe...\n28  XXVIII   The train, on leaving Great Salt Lake...\n29  XXIX   The train pursued its course, that even...\n30  XXX   Three passengers including Passepartout ...\n31  XXXI   Phileas Fogg found himself twenty hours...\n32  XXXII   The China, in leaving, seemed to have ...\n33  XXXIII   An hour after, the Henrietta passed t...\n34  XXXIV   Phileas Fogg was in prison.  He had be...\n35  XXXV   The dwellers in Saville Row would have ...\n36  XXXVI   It is time to relate what a change too...\n37  XXXVII   Yes; Phileas Fogg in person.   The re...\n"
          ]
        }
      ]
    },
    {
      "cell_type": "code",
      "metadata": {
        "id": "t3xQemR3r4UL"
      },
      "source": [
        "df_chapters = df.drop(labels=0, axis=0)"
      ],
      "execution_count": 19,
      "outputs": []
    },
    {
      "cell_type": "code",
      "metadata": {
        "colab": {
          "base_uri": "https://localhost:8080/",
          "height": 1000
        },
        "id": "ESYH1VjCNHPO",
        "outputId": "1598740c-7c9e-4044-e226-f77630d6da77"
      },
      "source": [
        "df_chapters"
      ],
      "execution_count": 20,
      "outputs": [
        {
          "output_type": "execute_result",
          "data": {
            "text/plain": [
              "                                             chapters\n",
              "1   I   Mr. Phileas Fogg lived, in 1872, at No. 7,...\n",
              "2   II   \"Faith,\" muttered Passepartout, somewhat ...\n",
              "3   III   Phileas Fogg, having shut the door of hi...\n",
              "4   IV   Having won twenty guineas at whist, and t...\n",
              "5   V   Phileas Fogg rightly suspected that his de...\n",
              "6   VI   The circumstances under which this telegr...\n",
              "7   VII   The detective passed down the quay, and ...\n",
              "8   VIII   Fix soon rejoined Passepartout, who was...\n",
              "9   IX   The distance between Suez and Aden is pre...\n",
              "10  X   Everybody knows that the great reversed tr...\n",
              "11  XI   The train had started punctually.  Among ...\n",
              "12  XII   In order to shorten the journey, the gui...\n",
              "13  XIII   The project was a bold one, full of dif...\n",
              "14  XIV   The rash exploit had been accomplished; ...\n",
              "15  XV   The train entered the station, and Passep...\n",
              "16  XVI   The Rangoon—one of the Peninsular and Or...\n",
              "17  XVII   The detective and Passepartout met ofte...\n",
              "18  XVIII   The weather was bad during the latter ...\n",
              "19  XIX   Hong Kong is an island which came into t...\n",
              "20  XX   While these events were passing at the op...\n",
              "21  XXI   This voyage of eight hundred miles was a...\n",
              "22  XXII   The Carnatic, setting sail from Hong Ko...\n",
              "23  XXIII   The next morning poor, jaded, famished...\n",
              "24  XXIV   What happened when the pilot-boat came ...\n",
              "25  XXV   It was seven in the morning when Mr. Fog...\n",
              "26  XXVI   \"From ocean to ocean\"—so say the Americ...\n",
              "27  XXVII   During the night of the 5th of Decembe...\n",
              "28  XXVIII   The train, on leaving Great Salt Lake...\n",
              "29  XXIX   The train pursued its course, that even...\n",
              "30  XXX   Three passengers including Passepartout ...\n",
              "31  XXXI   Phileas Fogg found himself twenty hours...\n",
              "32  XXXII   The China, in leaving, seemed to have ...\n",
              "33  XXXIII   An hour after, the Henrietta passed t...\n",
              "34  XXXIV   Phileas Fogg was in prison.  He had be...\n",
              "35  XXXV   The dwellers in Saville Row would have ...\n",
              "36  XXXVI   It is time to relate what a change too...\n",
              "37  XXXVII   Yes; Phileas Fogg in person.   The re..."
            ],
            "text/html": "<div>\n<style scoped>\n    .dataframe tbody tr th:only-of-type {\n        vertical-align: middle;\n    }\n\n    .dataframe tbody tr th {\n        vertical-align: top;\n    }\n\n    .dataframe thead th {\n        text-align: right;\n    }\n</style>\n<table border=\"1\" class=\"dataframe\">\n  <thead>\n    <tr style=\"text-align: right;\">\n      <th></th>\n      <th>chapters</th>\n    </tr>\n  </thead>\n  <tbody>\n    <tr>\n      <th>1</th>\n      <td>I   Mr. Phileas Fogg lived, in 1872, at No. 7,...</td>\n    </tr>\n    <tr>\n      <th>2</th>\n      <td>II   \"Faith,\" muttered Passepartout, somewhat ...</td>\n    </tr>\n    <tr>\n      <th>3</th>\n      <td>III   Phileas Fogg, having shut the door of hi...</td>\n    </tr>\n    <tr>\n      <th>4</th>\n      <td>IV   Having won twenty guineas at whist, and t...</td>\n    </tr>\n    <tr>\n      <th>5</th>\n      <td>V   Phileas Fogg rightly suspected that his de...</td>\n    </tr>\n    <tr>\n      <th>6</th>\n      <td>VI   The circumstances under which this telegr...</td>\n    </tr>\n    <tr>\n      <th>7</th>\n      <td>VII   The detective passed down the quay, and ...</td>\n    </tr>\n    <tr>\n      <th>8</th>\n      <td>VIII   Fix soon rejoined Passepartout, who was...</td>\n    </tr>\n    <tr>\n      <th>9</th>\n      <td>IX   The distance between Suez and Aden is pre...</td>\n    </tr>\n    <tr>\n      <th>10</th>\n      <td>X   Everybody knows that the great reversed tr...</td>\n    </tr>\n    <tr>\n      <th>11</th>\n      <td>XI   The train had started punctually.  Among ...</td>\n    </tr>\n    <tr>\n      <th>12</th>\n      <td>XII   In order to shorten the journey, the gui...</td>\n    </tr>\n    <tr>\n      <th>13</th>\n      <td>XIII   The project was a bold one, full of dif...</td>\n    </tr>\n    <tr>\n      <th>14</th>\n      <td>XIV   The rash exploit had been accomplished; ...</td>\n    </tr>\n    <tr>\n      <th>15</th>\n      <td>XV   The train entered the station, and Passep...</td>\n    </tr>\n    <tr>\n      <th>16</th>\n      <td>XVI   The Rangoon—one of the Peninsular and Or...</td>\n    </tr>\n    <tr>\n      <th>17</th>\n      <td>XVII   The detective and Passepartout met ofte...</td>\n    </tr>\n    <tr>\n      <th>18</th>\n      <td>XVIII   The weather was bad during the latter ...</td>\n    </tr>\n    <tr>\n      <th>19</th>\n      <td>XIX   Hong Kong is an island which came into t...</td>\n    </tr>\n    <tr>\n      <th>20</th>\n      <td>XX   While these events were passing at the op...</td>\n    </tr>\n    <tr>\n      <th>21</th>\n      <td>XXI   This voyage of eight hundred miles was a...</td>\n    </tr>\n    <tr>\n      <th>22</th>\n      <td>XXII   The Carnatic, setting sail from Hong Ko...</td>\n    </tr>\n    <tr>\n      <th>23</th>\n      <td>XXIII   The next morning poor, jaded, famished...</td>\n    </tr>\n    <tr>\n      <th>24</th>\n      <td>XXIV   What happened when the pilot-boat came ...</td>\n    </tr>\n    <tr>\n      <th>25</th>\n      <td>XXV   It was seven in the morning when Mr. Fog...</td>\n    </tr>\n    <tr>\n      <th>26</th>\n      <td>XXVI   \"From ocean to ocean\"—so say the Americ...</td>\n    </tr>\n    <tr>\n      <th>27</th>\n      <td>XXVII   During the night of the 5th of Decembe...</td>\n    </tr>\n    <tr>\n      <th>28</th>\n      <td>XXVIII   The train, on leaving Great Salt Lake...</td>\n    </tr>\n    <tr>\n      <th>29</th>\n      <td>XXIX   The train pursued its course, that even...</td>\n    </tr>\n    <tr>\n      <th>30</th>\n      <td>XXX   Three passengers including Passepartout ...</td>\n    </tr>\n    <tr>\n      <th>31</th>\n      <td>XXXI   Phileas Fogg found himself twenty hours...</td>\n    </tr>\n    <tr>\n      <th>32</th>\n      <td>XXXII   The China, in leaving, seemed to have ...</td>\n    </tr>\n    <tr>\n      <th>33</th>\n      <td>XXXIII   An hour after, the Henrietta passed t...</td>\n    </tr>\n    <tr>\n      <th>34</th>\n      <td>XXXIV   Phileas Fogg was in prison.  He had be...</td>\n    </tr>\n    <tr>\n      <th>35</th>\n      <td>XXXV   The dwellers in Saville Row would have ...</td>\n    </tr>\n    <tr>\n      <th>36</th>\n      <td>XXXVI   It is time to relate what a change too...</td>\n    </tr>\n    <tr>\n      <th>37</th>\n      <td>XXXVII   Yes; Phileas Fogg in person.   The re...</td>\n    </tr>\n  </tbody>\n</table>\n</div>"
          },
          "metadata": {},
          "execution_count": 20
        }
      ]
    },
    {
      "cell_type": "code",
      "metadata": {
        "id": "H-OZujIxPa2x"
      },
      "source": [
        "max_chunk = 500"
      ],
      "execution_count": 46,
      "outputs": []
    },
    {
      "cell_type": "code",
      "metadata": {
        "colab": {
          "base_uri": "https://localhost:8080/",
          "height": 261,
          "referenced_widgets": [
            "de286306f1f64607a30a6ba241aacf7f",
            "d38ff4c17fb443c4a6279aae654d02ac",
            "6ea3f3dadcf44bc6b5b4f5b7d0da5a37",
            "dd6b2f173d504c968be7966b57b4a717",
            "e6fa58962e594f9a9bb44d31c35fbc4c",
            "c899f6e4f6614687b464ef5d9293a611",
            "f7c751dbbe484564915234c3fcbc24cc",
            "f4590ff654724f03a8f9d5274f9d43c7",
            "63eca6336c934a25ac6e2dff6a6ff97b",
            "bc532f0a705c40f8b44a133b775e6c93",
            "dbf92e0fc0a84fbab9756e19d0429061",
            "e242a639116d462395ebd83907004545",
            "d4e83c76140445e4b0ab005745bf9d7e",
            "bb1390ce35264f328d3f176d136aee0a",
            "fcf01aa6cf2c4535852203b750c8166a",
            "8263a47f94a4488380af1b81239a5ec3",
            "235d01418ed64dd9be93db0d86ab4dfe",
            "f750370980154becbfea6df0026fc8d1",
            "d14ebee17a1c4e898261646974359f31",
            "a4de57ef75c6417195981518d7b04789",
            "50f2ac2c364e4e74a0a4e7e44912552d",
            "65de0afc4ea84b578f7d56914d23d375",
            "7c5b8411e1bb42db9f7ab02ebe1d95b2",
            "d31bbc02783c45e897358832ad02e0b5",
            "a025fef18f2b486e91f9abf7de353da8",
            "8d52212a2037428985f72f8389e5cc28",
            "4efb772166a44916b24160394b35acd8",
            "cb4b420904f140bbacc5cf9265f3fda9",
            "0f21c2e752b249ebbff55b18fedd9938",
            "4d0a049304c947f9adae98fbc30fe891",
            "9516ce0264d64b64967658373ac8adfb",
            "9aed3bb8a8d24a25b892725ad48b63f4",
            "b6018299ae8240f5b3c36ced6f195e74",
            "290d415bd37a4fa79a80ff14eaa05664",
            "7506f551fddf4b5d8126240bd43bffa6",
            "8a5cb4d2057142d0abd92c66a7100a90",
            "9eb281ebd5ba4df38e21d31c321d0574",
            "a7e7bffab10f4e8985381205b5a3c968",
            "46746ed001b14a55b6d177eb61ff71e2",
            "60084cfafcfc48a4963acb87e2e3d0d4"
          ]
        },
        "id": "MyOajyZ6PcTW",
        "outputId": "4c1fdd6f-c7f5-4bcc-836c-8fb021a0d7d0"
      },
      "source": [
        "summarizer_bart = pipeline('summarization', model='facebook/bart-large-cnn', tokenizer='facebook/bart-large-cnn')"
      ],
      "execution_count": 49,
      "outputs": [
        {
          "output_type": "error",
          "ename": "RuntimeError",
          "evalue": "CUDA error: invalid device ordinal",
          "traceback": [
            "\u001b[1;31m---------------------------------------------------------------------------\u001b[0m",
            "\u001b[1;31mRuntimeError\u001b[0m                              Traceback (most recent call last)",
            "\u001b[1;32m<ipython-input-49-2457bb7fc0ec>\u001b[0m in \u001b[0;36m<module>\u001b[1;34m\u001b[0m\n\u001b[0;32m      1\u001b[0m summarizer_bart = pipeline('summarization', model='facebook/bart-large-cnn', \n\u001b[1;32m----> 2\u001b[1;33m                             tokenizer='facebook/bart-large-cnn', framework=\"pt\", device= 2)\n\u001b[0m",
            "\u001b[1;32m~\\anaconda3\\envs\\pytorch\\lib\\site-packages\\transformers\\pipelines\\__init__.py\u001b[0m in \u001b[0;36mpipeline\u001b[1;34m(task, model, config, tokenizer, framework, revision, use_fast, use_auth_token, model_kwargs, **kwargs)\u001b[0m\n\u001b[0;32m    432\u001b[0m                 \u001b[1;32mbreak\u001b[0m\u001b[1;33m\u001b[0m\u001b[1;33m\u001b[0m\u001b[0m\n\u001b[0;32m    433\u001b[0m \u001b[1;33m\u001b[0m\u001b[0m\n\u001b[1;32m--> 434\u001b[1;33m     \u001b[1;32mreturn\u001b[0m \u001b[0mtask_class\u001b[0m\u001b[1;33m(\u001b[0m\u001b[0mmodel\u001b[0m\u001b[1;33m=\u001b[0m\u001b[0mmodel\u001b[0m\u001b[1;33m,\u001b[0m \u001b[0mtokenizer\u001b[0m\u001b[1;33m=\u001b[0m\u001b[0mtokenizer\u001b[0m\u001b[1;33m,\u001b[0m \u001b[0mmodelcard\u001b[0m\u001b[1;33m=\u001b[0m\u001b[0mmodelcard\u001b[0m\u001b[1;33m,\u001b[0m \u001b[0mframework\u001b[0m\u001b[1;33m=\u001b[0m\u001b[0mframework\u001b[0m\u001b[1;33m,\u001b[0m \u001b[0mtask\u001b[0m\u001b[1;33m=\u001b[0m\u001b[0mtask\u001b[0m\u001b[1;33m,\u001b[0m \u001b[1;33m**\u001b[0m\u001b[0mkwargs\u001b[0m\u001b[1;33m)\u001b[0m\u001b[1;33m\u001b[0m\u001b[1;33m\u001b[0m\u001b[0m\n\u001b[0m",
            "\u001b[1;32m~\\anaconda3\\envs\\pytorch\\lib\\site-packages\\transformers\\pipelines\\text2text_generation.py\u001b[0m in \u001b[0;36m__init__\u001b[1;34m(self, *args, **kwargs)\u001b[0m\n\u001b[0;32m     37\u001b[0m \u001b[1;33m\u001b[0m\u001b[0m\n\u001b[0;32m     38\u001b[0m     \u001b[1;32mdef\u001b[0m \u001b[0m__init__\u001b[0m\u001b[1;33m(\u001b[0m\u001b[0mself\u001b[0m\u001b[1;33m,\u001b[0m \u001b[1;33m*\u001b[0m\u001b[0margs\u001b[0m\u001b[1;33m,\u001b[0m \u001b[1;33m**\u001b[0m\u001b[0mkwargs\u001b[0m\u001b[1;33m)\u001b[0m\u001b[1;33m:\u001b[0m\u001b[1;33m\u001b[0m\u001b[1;33m\u001b[0m\u001b[0m\n\u001b[1;32m---> 39\u001b[1;33m         \u001b[0msuper\u001b[0m\u001b[1;33m(\u001b[0m\u001b[1;33m)\u001b[0m\u001b[1;33m.\u001b[0m\u001b[0m__init__\u001b[0m\u001b[1;33m(\u001b[0m\u001b[1;33m*\u001b[0m\u001b[0margs\u001b[0m\u001b[1;33m,\u001b[0m \u001b[1;33m**\u001b[0m\u001b[0mkwargs\u001b[0m\u001b[1;33m)\u001b[0m\u001b[1;33m\u001b[0m\u001b[1;33m\u001b[0m\u001b[0m\n\u001b[0m\u001b[0;32m     40\u001b[0m \u001b[1;33m\u001b[0m\u001b[0m\n\u001b[0;32m     41\u001b[0m         self.check_model_type(\n",
            "\u001b[1;32m~\\anaconda3\\envs\\pytorch\\lib\\site-packages\\transformers\\pipelines\\base.py\u001b[0m in \u001b[0;36m__init__\u001b[1;34m(self, model, tokenizer, modelcard, framework, task, args_parser, device, binary_output)\u001b[0m\n\u001b[0;32m    545\u001b[0m         \u001b[1;31m# Special handling\u001b[0m\u001b[1;33m\u001b[0m\u001b[1;33m\u001b[0m\u001b[1;33m\u001b[0m\u001b[0m\n\u001b[0;32m    546\u001b[0m         \u001b[1;32mif\u001b[0m \u001b[0mself\u001b[0m\u001b[1;33m.\u001b[0m\u001b[0mframework\u001b[0m \u001b[1;33m==\u001b[0m \u001b[1;34m\"pt\"\u001b[0m \u001b[1;32mand\u001b[0m \u001b[0mself\u001b[0m\u001b[1;33m.\u001b[0m\u001b[0mdevice\u001b[0m\u001b[1;33m.\u001b[0m\u001b[0mtype\u001b[0m \u001b[1;33m==\u001b[0m \u001b[1;34m\"cuda\"\u001b[0m\u001b[1;33m:\u001b[0m\u001b[1;33m\u001b[0m\u001b[1;33m\u001b[0m\u001b[0m\n\u001b[1;32m--> 547\u001b[1;33m             \u001b[0mself\u001b[0m\u001b[1;33m.\u001b[0m\u001b[0mmodel\u001b[0m \u001b[1;33m=\u001b[0m \u001b[0mself\u001b[0m\u001b[1;33m.\u001b[0m\u001b[0mmodel\u001b[0m\u001b[1;33m.\u001b[0m\u001b[0mto\u001b[0m\u001b[1;33m(\u001b[0m\u001b[0mself\u001b[0m\u001b[1;33m.\u001b[0m\u001b[0mdevice\u001b[0m\u001b[1;33m)\u001b[0m\u001b[1;33m\u001b[0m\u001b[1;33m\u001b[0m\u001b[0m\n\u001b[0m\u001b[0;32m    548\u001b[0m \u001b[1;33m\u001b[0m\u001b[0m\n\u001b[0;32m    549\u001b[0m         \u001b[1;31m# Update config with task specific parameters\u001b[0m\u001b[1;33m\u001b[0m\u001b[1;33m\u001b[0m\u001b[1;33m\u001b[0m\u001b[0m\n",
            "\u001b[1;32m~\\anaconda3\\envs\\pytorch\\lib\\site-packages\\torch\\nn\\modules\\module.py\u001b[0m in \u001b[0;36mto\u001b[1;34m(self, *args, **kwargs)\u001b[0m\n\u001b[0;32m    605\u001b[0m             \u001b[1;32mreturn\u001b[0m \u001b[0mt\u001b[0m\u001b[1;33m.\u001b[0m\u001b[0mto\u001b[0m\u001b[1;33m(\u001b[0m\u001b[0mdevice\u001b[0m\u001b[1;33m,\u001b[0m \u001b[0mdtype\u001b[0m \u001b[1;32mif\u001b[0m \u001b[0mt\u001b[0m\u001b[1;33m.\u001b[0m\u001b[0mis_floating_point\u001b[0m\u001b[1;33m(\u001b[0m\u001b[1;33m)\u001b[0m \u001b[1;32melse\u001b[0m \u001b[1;32mNone\u001b[0m\u001b[1;33m,\u001b[0m \u001b[0mnon_blocking\u001b[0m\u001b[1;33m)\u001b[0m\u001b[1;33m\u001b[0m\u001b[1;33m\u001b[0m\u001b[0m\n\u001b[0;32m    606\u001b[0m \u001b[1;33m\u001b[0m\u001b[0m\n\u001b[1;32m--> 607\u001b[1;33m         \u001b[1;32mreturn\u001b[0m \u001b[0mself\u001b[0m\u001b[1;33m.\u001b[0m\u001b[0m_apply\u001b[0m\u001b[1;33m(\u001b[0m\u001b[0mconvert\u001b[0m\u001b[1;33m)\u001b[0m\u001b[1;33m\u001b[0m\u001b[1;33m\u001b[0m\u001b[0m\n\u001b[0m\u001b[0;32m    608\u001b[0m \u001b[1;33m\u001b[0m\u001b[0m\n\u001b[0;32m    609\u001b[0m     def register_backward_hook(\n",
            "\u001b[1;32m~\\anaconda3\\envs\\pytorch\\lib\\site-packages\\torch\\nn\\modules\\module.py\u001b[0m in \u001b[0;36m_apply\u001b[1;34m(self, fn)\u001b[0m\n\u001b[0;32m    352\u001b[0m     \u001b[1;32mdef\u001b[0m \u001b[0m_apply\u001b[0m\u001b[1;33m(\u001b[0m\u001b[0mself\u001b[0m\u001b[1;33m,\u001b[0m \u001b[0mfn\u001b[0m\u001b[1;33m)\u001b[0m\u001b[1;33m:\u001b[0m\u001b[1;33m\u001b[0m\u001b[1;33m\u001b[0m\u001b[0m\n\u001b[0;32m    353\u001b[0m         \u001b[1;32mfor\u001b[0m \u001b[0mmodule\u001b[0m \u001b[1;32min\u001b[0m \u001b[0mself\u001b[0m\u001b[1;33m.\u001b[0m\u001b[0mchildren\u001b[0m\u001b[1;33m(\u001b[0m\u001b[1;33m)\u001b[0m\u001b[1;33m:\u001b[0m\u001b[1;33m\u001b[0m\u001b[1;33m\u001b[0m\u001b[0m\n\u001b[1;32m--> 354\u001b[1;33m             \u001b[0mmodule\u001b[0m\u001b[1;33m.\u001b[0m\u001b[0m_apply\u001b[0m\u001b[1;33m(\u001b[0m\u001b[0mfn\u001b[0m\u001b[1;33m)\u001b[0m\u001b[1;33m\u001b[0m\u001b[1;33m\u001b[0m\u001b[0m\n\u001b[0m\u001b[0;32m    355\u001b[0m \u001b[1;33m\u001b[0m\u001b[0m\n\u001b[0;32m    356\u001b[0m         \u001b[1;32mdef\u001b[0m \u001b[0mcompute_should_use_set_data\u001b[0m\u001b[1;33m(\u001b[0m\u001b[0mtensor\u001b[0m\u001b[1;33m,\u001b[0m \u001b[0mtensor_applied\u001b[0m\u001b[1;33m)\u001b[0m\u001b[1;33m:\u001b[0m\u001b[1;33m\u001b[0m\u001b[1;33m\u001b[0m\u001b[0m\n",
            "\u001b[1;32m~\\anaconda3\\envs\\pytorch\\lib\\site-packages\\torch\\nn\\modules\\module.py\u001b[0m in \u001b[0;36m_apply\u001b[1;34m(self, fn)\u001b[0m\n\u001b[0;32m    352\u001b[0m     \u001b[1;32mdef\u001b[0m \u001b[0m_apply\u001b[0m\u001b[1;33m(\u001b[0m\u001b[0mself\u001b[0m\u001b[1;33m,\u001b[0m \u001b[0mfn\u001b[0m\u001b[1;33m)\u001b[0m\u001b[1;33m:\u001b[0m\u001b[1;33m\u001b[0m\u001b[1;33m\u001b[0m\u001b[0m\n\u001b[0;32m    353\u001b[0m         \u001b[1;32mfor\u001b[0m \u001b[0mmodule\u001b[0m \u001b[1;32min\u001b[0m \u001b[0mself\u001b[0m\u001b[1;33m.\u001b[0m\u001b[0mchildren\u001b[0m\u001b[1;33m(\u001b[0m\u001b[1;33m)\u001b[0m\u001b[1;33m:\u001b[0m\u001b[1;33m\u001b[0m\u001b[1;33m\u001b[0m\u001b[0m\n\u001b[1;32m--> 354\u001b[1;33m             \u001b[0mmodule\u001b[0m\u001b[1;33m.\u001b[0m\u001b[0m_apply\u001b[0m\u001b[1;33m(\u001b[0m\u001b[0mfn\u001b[0m\u001b[1;33m)\u001b[0m\u001b[1;33m\u001b[0m\u001b[1;33m\u001b[0m\u001b[0m\n\u001b[0m\u001b[0;32m    355\u001b[0m \u001b[1;33m\u001b[0m\u001b[0m\n\u001b[0;32m    356\u001b[0m         \u001b[1;32mdef\u001b[0m \u001b[0mcompute_should_use_set_data\u001b[0m\u001b[1;33m(\u001b[0m\u001b[0mtensor\u001b[0m\u001b[1;33m,\u001b[0m \u001b[0mtensor_applied\u001b[0m\u001b[1;33m)\u001b[0m\u001b[1;33m:\u001b[0m\u001b[1;33m\u001b[0m\u001b[1;33m\u001b[0m\u001b[0m\n",
            "\u001b[1;32m~\\anaconda3\\envs\\pytorch\\lib\\site-packages\\torch\\nn\\modules\\module.py\u001b[0m in \u001b[0;36m_apply\u001b[1;34m(self, fn)\u001b[0m\n\u001b[0;32m    374\u001b[0m                 \u001b[1;31m# `with torch.no_grad():`\u001b[0m\u001b[1;33m\u001b[0m\u001b[1;33m\u001b[0m\u001b[1;33m\u001b[0m\u001b[0m\n\u001b[0;32m    375\u001b[0m                 \u001b[1;32mwith\u001b[0m \u001b[0mtorch\u001b[0m\u001b[1;33m.\u001b[0m\u001b[0mno_grad\u001b[0m\u001b[1;33m(\u001b[0m\u001b[1;33m)\u001b[0m\u001b[1;33m:\u001b[0m\u001b[1;33m\u001b[0m\u001b[1;33m\u001b[0m\u001b[0m\n\u001b[1;32m--> 376\u001b[1;33m                     \u001b[0mparam_applied\u001b[0m \u001b[1;33m=\u001b[0m \u001b[0mfn\u001b[0m\u001b[1;33m(\u001b[0m\u001b[0mparam\u001b[0m\u001b[1;33m)\u001b[0m\u001b[1;33m\u001b[0m\u001b[1;33m\u001b[0m\u001b[0m\n\u001b[0m\u001b[0;32m    377\u001b[0m                 \u001b[0mshould_use_set_data\u001b[0m \u001b[1;33m=\u001b[0m \u001b[0mcompute_should_use_set_data\u001b[0m\u001b[1;33m(\u001b[0m\u001b[0mparam\u001b[0m\u001b[1;33m,\u001b[0m \u001b[0mparam_applied\u001b[0m\u001b[1;33m)\u001b[0m\u001b[1;33m\u001b[0m\u001b[1;33m\u001b[0m\u001b[0m\n\u001b[0;32m    378\u001b[0m                 \u001b[1;32mif\u001b[0m \u001b[0mshould_use_set_data\u001b[0m\u001b[1;33m:\u001b[0m\u001b[1;33m\u001b[0m\u001b[1;33m\u001b[0m\u001b[0m\n",
            "\u001b[1;32m~\\anaconda3\\envs\\pytorch\\lib\\site-packages\\torch\\nn\\modules\\module.py\u001b[0m in \u001b[0;36mconvert\u001b[1;34m(t)\u001b[0m\n\u001b[0;32m    603\u001b[0m             \u001b[1;32mif\u001b[0m \u001b[0mconvert_to_format\u001b[0m \u001b[1;32mis\u001b[0m \u001b[1;32mnot\u001b[0m \u001b[1;32mNone\u001b[0m \u001b[1;32mand\u001b[0m \u001b[0mt\u001b[0m\u001b[1;33m.\u001b[0m\u001b[0mdim\u001b[0m\u001b[1;33m(\u001b[0m\u001b[1;33m)\u001b[0m \u001b[1;33m==\u001b[0m \u001b[1;36m4\u001b[0m\u001b[1;33m:\u001b[0m\u001b[1;33m\u001b[0m\u001b[1;33m\u001b[0m\u001b[0m\n\u001b[0;32m    604\u001b[0m                 \u001b[1;32mreturn\u001b[0m \u001b[0mt\u001b[0m\u001b[1;33m.\u001b[0m\u001b[0mto\u001b[0m\u001b[1;33m(\u001b[0m\u001b[0mdevice\u001b[0m\u001b[1;33m,\u001b[0m \u001b[0mdtype\u001b[0m \u001b[1;32mif\u001b[0m \u001b[0mt\u001b[0m\u001b[1;33m.\u001b[0m\u001b[0mis_floating_point\u001b[0m\u001b[1;33m(\u001b[0m\u001b[1;33m)\u001b[0m \u001b[1;32melse\u001b[0m \u001b[1;32mNone\u001b[0m\u001b[1;33m,\u001b[0m \u001b[0mnon_blocking\u001b[0m\u001b[1;33m,\u001b[0m \u001b[0mmemory_format\u001b[0m\u001b[1;33m=\u001b[0m\u001b[0mconvert_to_format\u001b[0m\u001b[1;33m)\u001b[0m\u001b[1;33m\u001b[0m\u001b[1;33m\u001b[0m\u001b[0m\n\u001b[1;32m--> 605\u001b[1;33m             \u001b[1;32mreturn\u001b[0m \u001b[0mt\u001b[0m\u001b[1;33m.\u001b[0m\u001b[0mto\u001b[0m\u001b[1;33m(\u001b[0m\u001b[0mdevice\u001b[0m\u001b[1;33m,\u001b[0m \u001b[0mdtype\u001b[0m \u001b[1;32mif\u001b[0m \u001b[0mt\u001b[0m\u001b[1;33m.\u001b[0m\u001b[0mis_floating_point\u001b[0m\u001b[1;33m(\u001b[0m\u001b[1;33m)\u001b[0m \u001b[1;32melse\u001b[0m \u001b[1;32mNone\u001b[0m\u001b[1;33m,\u001b[0m \u001b[0mnon_blocking\u001b[0m\u001b[1;33m)\u001b[0m\u001b[1;33m\u001b[0m\u001b[1;33m\u001b[0m\u001b[0m\n\u001b[0m\u001b[0;32m    606\u001b[0m \u001b[1;33m\u001b[0m\u001b[0m\n\u001b[0;32m    607\u001b[0m         \u001b[1;32mreturn\u001b[0m \u001b[0mself\u001b[0m\u001b[1;33m.\u001b[0m\u001b[0m_apply\u001b[0m\u001b[1;33m(\u001b[0m\u001b[0mconvert\u001b[0m\u001b[1;33m)\u001b[0m\u001b[1;33m\u001b[0m\u001b[1;33m\u001b[0m\u001b[0m\n",
            "\u001b[1;31mRuntimeError\u001b[0m: CUDA error: invalid device ordinal"
          ]
        }
      ]
    },
    {
      "cell_type": "code",
      "metadata": {
        "id": "1826pJOhwFzq",
        "outputId": "10d346ee-0289-47b2-ea9a-11437e20e428",
        "colab": {
          "base_uri": "https://localhost:8080/",
          "height": 299,
          "referenced_widgets": [
            "24e4149520744afb998850140867693d",
            "b8929223de964ca9be4661ae5bedf2ff",
            "42c4d4a0d15549ab85898934bdd56c2e",
            "ca610ece1dbf4b43aaac68c724dea140",
            "2bc0b71b2ae84974bca59fb829291eaf",
            "ac971cd729184121877e25461b703d48",
            "94e3d56f38ce43b596446e0435f6f2f1",
            "33b0885405504d29956e19cd631c27ff",
            "1fa77fbe548b495c99ac895d86187bec",
            "245df5d8c8c34a4e9382160cea94bef0",
            "56fb5091d6e245c19151e6873a672796",
            "fc77bb2988d84e6da4fea36eefe83b3b",
            "b0656e503b5f43789f50330bbd5c2a0f",
            "cbf79d418ad4440f8cf3d6e867f62d29",
            "3dbc4366384046ef9344cfaa9de3773c",
            "5bc0f5a5932647b6a0956ca55d7dfcd8",
            "b247e7a69ade4c44a9769def4eab8f41",
            "c0f1dcbe3a7f4a25a8a94ddc112587fc",
            "2bb56b1869c54ec891dc01e57b150226",
            "9dae9408dd6b49fe98c0edc66280d2a1",
            "e92fba48123d46d5940a917e47213b75",
            "ba397227d6d54f19b497f68f2126d3af",
            "2e65ffdf41f64725bec979f27c29d1ac",
            "64ccbd8f23f34e3d965d8594d15e21eb",
            "d3d42ee50130434ba905aa59290c5afd",
            "4493a1d7452a4caa82307aee3ef1f2f5",
            "339196397d5242a19e08d4e8a6d3d870",
            "6879be3d6aa9498f8d40f77bfd3ae95b",
            "0e2d74cdce8342078230b86474e6404c",
            "790f6abe337f43b0a621cea927f6a4eb",
            "4982c9702d9c40a9b5658d2dddc78d4f",
            "7c734f48e9d14db0b1062b81710c2177"
          ]
        }
      },
      "source": [
        "summarizer_t5 = pipeline(\"summarization\", model=\"t5-large\", tokenizer=\"t5-large\", framework=\"tf\")"
      ],
      "execution_count": 38,
      "outputs": [
        {
          "output_type": "display_data",
          "data": {
            "application/vnd.jupyter.widget-view+json": {
              "model_id": "24e4149520744afb998850140867693d",
              "version_minor": 0,
              "version_major": 2
            },
            "text/plain": [
              "HBox(children=(FloatProgress(value=0.0, description='Downloading', max=1200.0, style=ProgressStyle(description…"
            ]
          },
          "metadata": {
            "tags": []
          }
        },
        {
          "output_type": "stream",
          "text": [
            "\n"
          ],
          "name": "stdout"
        },
        {
          "output_type": "display_data",
          "data": {
            "application/vnd.jupyter.widget-view+json": {
              "model_id": "1fa77fbe548b495c99ac895d86187bec",
              "version_minor": 0,
              "version_major": 2
            },
            "text/plain": [
              "HBox(children=(FloatProgress(value=0.0, description='Downloading', max=791656.0, style=ProgressStyle(descripti…"
            ]
          },
          "metadata": {
            "tags": []
          }
        },
        {
          "output_type": "stream",
          "text": [
            "\n"
          ],
          "name": "stdout"
        },
        {
          "output_type": "display_data",
          "data": {
            "application/vnd.jupyter.widget-view+json": {
              "model_id": "b247e7a69ade4c44a9769def4eab8f41",
              "version_minor": 0,
              "version_major": 2
            },
            "text/plain": [
              "HBox(children=(FloatProgress(value=0.0, description='Downloading', max=1389353.0, style=ProgressStyle(descript…"
            ]
          },
          "metadata": {
            "tags": []
          }
        },
        {
          "output_type": "stream",
          "text": [
            "\n"
          ],
          "name": "stdout"
        },
        {
          "output_type": "display_data",
          "data": {
            "application/vnd.jupyter.widget-view+json": {
              "model_id": "d3d42ee50130434ba905aa59290c5afd",
              "version_minor": 0,
              "version_major": 2
            },
            "text/plain": [
              "HBox(children=(FloatProgress(value=0.0, description='Downloading', max=2951710928.0, style=ProgressStyle(descr…"
            ]
          },
          "metadata": {
            "tags": []
          }
        },
        {
          "output_type": "stream",
          "text": [
            "\n"
          ],
          "name": "stdout"
        },
        {
          "output_type": "stream",
          "text": [
            "All model checkpoint layers were used when initializing TFT5ForConditionalGeneration.\n",
            "\n",
            "All the layers of TFT5ForConditionalGeneration were initialized from the model checkpoint at t5-large.\n",
            "If your task is similar to the task the model of the checkpoint was trained on, you can already use TFT5ForConditionalGeneration for predictions without further training.\n"
          ],
          "name": "stderr"
        }
      ]
    },
    {
      "cell_type": "code",
      "metadata": {
        "colab": {
          "base_uri": "https://localhost:8080/"
        },
        "id": "NVTFPRFzNmPl",
        "outputId": "85081c50-75d3-48d6-e58e-e6d6f10fcd02"
      },
      "source": [
        "for chapter in df_chapters[\"chapters\"]:\n",
        "  chapter = chapter.replace('.', '.<eos>')\n",
        "  chapter = chapter.replace('?', '?<eos>')\n",
        "  chapter = chapter.replace('!', '!<eos>')\n",
        "\n",
        "  sentences = chapter.split('<eos>')\n",
        "  current_chunk = 0 \n",
        "  chunks = []\n",
        "  for sentence in sentences:\n",
        "      if len(chunks) == current_chunk + 1: \n",
        "          if len(chunks[current_chunk]) + len(sentence.split(' ')) <= max_chunk:\n",
        "              chunks[current_chunk].extend(sentence.split(' '))\n",
        "          else:\n",
        "              current_chunk += 1\n",
        "              chunks.append(sentence.split(' '))\n",
        "      else:\n",
        "          print(current_chunk)\n",
        "          chunks.append(sentence.split(' '))\n",
        "\n",
        "  for chunk_id in range(len(chunks)):\n",
        "      chunks[chunk_id] = ' '.join(chunks[chunk_id])\n",
        "  "
      ],
      "execution_count": 39,
      "outputs": [
        {
          "output_type": "stream",
          "name": "stdout",
          "text": [
            "0\n",
            "0\n",
            "0\n",
            "0\n",
            "0\n",
            "0\n",
            "0\n",
            "0\n",
            "0\n",
            "0\n",
            "0\n",
            "0\n",
            "0\n",
            "0\n",
            "0\n",
            "0\n",
            "0\n",
            "0\n",
            "0\n",
            "0\n",
            "0\n",
            "0\n",
            "0\n",
            "0\n",
            "0\n",
            "0\n",
            "0\n",
            "0\n",
            "0\n",
            "0\n",
            "0\n",
            "0\n",
            "0\n",
            "0\n",
            "0\n",
            "0\n",
            "0\n"
          ]
        }
      ]
    },
    {
      "cell_type": "code",
      "metadata": {
        "colab": {
          "base_uri": "https://localhost:8080/",
          "height": 187
        },
        "id": "RvYEhZkSVq5a",
        "outputId": "ee9054bf-8738-43aa-b04e-7e35adc4a5b1"
      },
      "source": [
        "chunks[1]"
      ],
      "execution_count": 40,
      "outputs": [
        {
          "output_type": "execute_result",
          "data": {
            "text/plain": [
              "'   In journeying eastward he had gone towards the sun, and the days therefore diminished for him as many times four minutes as he crossed degrees in this direction.   There are three hundred and sixty degrees on the circumference of the earth; and these three hundred and sixty degrees, multiplied by four minutes, gives precisely twenty-four hours—that is, the day unconsciously gained.   In other words, while Phileas Fogg, going eastward, saw the sun pass the meridian eighty times, his friends in London only saw it pass the meridian seventy-nine times.   This is why they awaited him at the Reform Club on Saturday, and not Sunday, as Mr.  Fogg thought.    And Passepartout\\'s famous family watch, which had always kept London time, would have betrayed this fact, if it had marked the days as well as the hours and the minutes!    Phileas Fogg, then, had won the twenty thousand pounds; but, as he had spent nearly nineteen thousand on the way, the pecuniary gain was small.   His object was, however, to be victorious, and not to win money.   He divided the one thousand pounds that remained between Passepartout and the unfortunate Fix, against whom he cherished no grudge.   He deducted, however, from Passepartout\\'s share the cost of the gas which had burned in his room for nineteen hundred and twenty hours, for the sake of regularity.    That evening, Mr.  Fogg, as tranquil and phlegmatic as ever, said to Aouda: \"Is our marriage still agreeable to you? \"   \"Mr.  Fogg,\" replied she, \"it is for me to ask that question.   You were ruined, but now you are rich again. \"   \"Pardon me, madam; my fortune belongs to you.   If you had not suggested our marriage, my servant would not have gone to the Reverend Samuel Wilson\\'s, I should not have been apprised of my error, and—\"   \"Dear Mr.  Fogg! \" said the young woman.    \"Dear Aouda! \" replied Phileas Fogg.    It need not be said that the marriage took place forty-eight hours after, and that Passepartout, glowing and dazzling, gave the bride away.   Had he not saved her, and was he not entitled to this honour?    The next day, as soon as it was light, Passepartout rapped vigorously at his master\\'s door.   Mr.  Fogg opened it, and asked, \"What\\'s the matter, Passepartout? \"   \"What is it, sir?   Why, I\\'ve just this instant found out—\"   \"What? \"   \"That we might have made the tour of the world in only seventy-eight days. \"   \"No doubt,\" returned Mr.  Fogg, \"by not crossing India.'"
            ]
          },
          "metadata": {},
          "execution_count": 40
        }
      ]
    },
    {
      "cell_type": "code",
      "metadata": {
        "colab": {
          "base_uri": "https://localhost:8080/"
        },
        "id": "KNtLE8zbPHIY",
        "outputId": "e6445658-027a-432d-876a-c13595b007f1"
      },
      "source": [
        "%%time\n",
        "res_bart = summarizer_bart(chunks, max_length=500, min_length=300, do_sample=False)"
      ],
      "execution_count": 41,
      "outputs": [
        {
          "output_type": "stream",
          "name": "stdout",
          "text": [
            "Wall time: 4min 20s\n"
          ]
        }
      ]
    },
    {
      "cell_type": "code",
      "metadata": {
        "colab": {
          "base_uri": "https://localhost:8080/"
        },
        "id": "wbg573CqQPrR",
        "outputId": "b422c4b9-67b2-48c2-917b-207c9eb93c24"
      },
      "source": [
        "res_bart[0]"
      ],
      "execution_count": 42,
      "outputs": [
        {
          "output_type": "execute_result",
          "data": {
            "text/plain": [
              "{'summary_text': 'Passepartout was sent by his master to engage the services of the Reverend Samuel Wilson in a certain marriage ceremony, which was to take place the next day. He soon reached the clergyman\\'s house, but found him not at home. Passepartout waited a good twenty minutes, and when he left the reverend gentleman, it was thirty-five minutes past eight. But in what a state he was!   With his hair in disorder, and without his hat, he ran along the street as never man was seen to run before, overturning passers-by, rushing over the sidewalk like a waterspout. In three minutes he was in Saville Row again, and staggered back into Mr. Fogg\\'s room. Phileas Fogg had, without suspecting it, gained one day on his journey, and this merely because he had travelled constantly eastward; he would, on the contrary, have lost a day had he gone in the opposite direction, that is, westward.   How came he to think that he had arrived in London on Saturday, the twenty-first day of December, when it was really Friday, the twentieth, the seventy-ninth day only from his departure?    The cause of the error is very simple. It is Saturday. \"No—to-day is Saturday! \"   \"Monday,\" replied Mr.  Fogg. \"Impossible? \"  \"Because to-morrow—is Sunday!\"'}"
            ]
          },
          "metadata": {},
          "execution_count": 42
        }
      ]
    },
    {
      "cell_type": "code",
      "metadata": {
        "id": "y02tvWHiR8kf"
      },
      "source": [
        "text_bart = ' '.join([summ['summary_text'] for summ in res_bart])"
      ],
      "execution_count": 43,
      "outputs": []
    },
    {
      "cell_type": "code",
      "metadata": {
        "colab": {
          "base_uri": "https://localhost:8080/"
        },
        "id": "o-H239fgSEed",
        "outputId": "6d56a991-1d47-476c-ed08-90b99139e189"
      },
      "source": [
        "print(text_bart)"
      ],
      "execution_count": 44,
      "outputs": [
        {
          "output_type": "stream",
          "name": "stdout",
          "text": [
            "Passepartout was sent by his master to engage the services of the Reverend Samuel Wilson in a certain marriage ceremony, which was to take place the next day. He soon reached the clergyman's house, but found him not at home. Passepartout waited a good twenty minutes, and when he left the reverend gentleman, it was thirty-five minutes past eight. But in what a state he was!   With his hair in disorder, and without his hat, he ran along the street as never man was seen to run before, overturning passers-by, rushing over the sidewalk like a waterspout. In three minutes he was in Saville Row again, and staggered back into Mr. Fogg's room. Phileas Fogg had, without suspecting it, gained one day on his journey, and this merely because he had travelled constantly eastward; he would, on the contrary, have lost a day had he gone in the opposite direction, that is, westward.   How came he to think that he had arrived in London on Saturday, the twenty-first day of December, when it was really Friday, the twentieth, the seventy-ninth day only from his departure?    The cause of the error is very simple. It is Saturday. \"No—to-day is Saturday! \"   \"Monday,\" replied Mr.  Fogg. \"Impossible? \"  \"Because to-morrow—is Sunday!\" In journeying eastward he had gone towards the sun, and the days therefore diminished for him as many times four minutes as he crossed degrees in this direction. While Phileas Fogg, going eastward, saw the sun pass the meridian eighty times, his friends in London only saw it pass it seventy-nine times. This is why they awaited him at the Reform Club on Saturday, and not Sunday, as Mr.  Fogg thought. And Passepartout's famous family watch, which had always kept London time, would have betrayed this fact, if it had marked the days as well as the hours and the minutes!    He had won the twenty thousand pounds; but, as he had spent nearly nineteen thousand on the way, the pecuniary gain was small. He divided the one thousand pounds that remained between Passe partout and the unfortunate Fix, against whom he cherished no grudge. He deducted, however, from Passe Partout's share the cost of the gas which had burned in his room for nineteen hundred and twenty hours, for the sake of regularity. The next day, as soon as it was light, PassePartout rapped vigorously at his master's door. \"Dear Mr. Fogg! \" said the young woman. \"Pardon me, madam; my fortune belongs to you. \" It need not be said that the marriage took place forty-eight hours after, and that Passe partedout gave the bride away. Phileas Fogg had won his wager, and had made his journey around the world in eighty days. To do this he had employed every means of conveyance—steamers, railways, carriages, yachts, trading-vessels, sledges, elephants. What had he brought back from this long and weary journey? Nothing but a charming woman, who, strange as it may appear, made him the happiest of men!    Truly, would you not for less than that make the tour of the world?   Would you not, say you?  If I had not crossed India, I should not have saved Aouda; she would not have been my wife, and—\"   Mr. Fogg quietly shut the door.   But what had he really gained by all this trouble?  Perhaps so;  Perhaps so; nothing but nothing but a charm that made him happy.   But what then?  What did he gain by all the trouble? What was the point of it all? What would he gain if he had not made the journey at all? He would have won the bet, and he would have been able to see his wife again. But what would he have gained if he hadn't made the trip in the first place? He wouldn't have had to cross India, and would have missed out on his wife. He would never have met her. He had to make the journey, and so he had made the bet.\n"
          ]
        }
      ]
    },
    {
      "cell_type": "code",
      "metadata": {
        "colab": {
          "base_uri": "https://localhost:8080/"
        },
        "id": "CCqgLY1HSFOg",
        "outputId": "16b911c0-d1e2-486f-ac2a-678844b9db4b"
      },
      "source": [
        "%%time\n",
        "res_t5 = summarizer_t5(chunks, max_length=200, min_length=100, do_sample=False)"
      ],
      "execution_count": 40,
      "outputs": [
        {
          "output_type": "stream",
          "text": [
            "CPU times: user 5min 41s, sys: 11.9 s, total: 5min 53s\n",
            "Wall time: 3min 51s\n"
          ],
          "name": "stdout"
        }
      ]
    },
    {
      "cell_type": "code",
      "metadata": {
        "id": "EevgNghxw5aP",
        "outputId": "6e10312b-081f-4865-96b9-9d32563eb98b",
        "colab": {
          "base_uri": "https://localhost:8080/"
        }
      },
      "source": [
        "res_t5[0]"
      ],
      "execution_count": 41,
      "outputs": [
        {
          "output_type": "execute_result",
          "data": {
            "text/plain": [
              "{'summary_text': \"phileas fogg thought he arrived in london on saturday, when it was really friday . fogg had travelled constantly eastward; he would have lost a day if he went westward . frank fogg's errand was to engage the services of a clergyman in a marriage ceremony . the clergyman was not at home, and passepartout waited a good twenty minutes .\"}"
            ]
          },
          "metadata": {
            "tags": []
          },
          "execution_count": 41
        }
      ]
    },
    {
      "cell_type": "code",
      "metadata": {
        "id": "u1fQ9vw3w88J"
      },
      "source": [
        "text_t5 = ' '.join([summ['summary_text'] for summ in res_t5])"
      ],
      "execution_count": 42,
      "outputs": []
    },
    {
      "cell_type": "code",
      "metadata": {
        "id": "EFEcEqFjxDsi",
        "outputId": "d016755f-1974-4775-c75a-26464dc6e62a",
        "colab": {
          "base_uri": "https://localhost:8080/"
        }
      },
      "source": [
        "print(text_t5)"
      ],
      "execution_count": 43,
      "outputs": [
        {
          "output_type": "stream",
          "text": [
            "phileas fogg thought he arrived in london on saturday, when it was really friday . fogg had travelled constantly eastward; he would have lost a day if he went westward . frank fogg's errand was to engage the services of a clergyman in a marriage ceremony . the clergyman was not at home, and passepartout waited a good twenty minutes . phileas fogg, going eastward, saw the sun pass the meridian eighty times . his friends in london only saw it pass 79 times, as he thought . fogg's object was to be victorious, and not to win money . he deducted from Passepartout's share the cost of the gas which had burned in his room . \"if you had not suggested our marriage, my servant would not have gone to the reverend Samuel Wilson phileas fogg had won his wager, and had made his journey around the world in eighty days . what had he really gained by all this trouble? nothing but a charming woman, who, strangely, made him the happiest of men . aouda was the most beautiful woman he had ever seen, and he loved her dearly . \"if i had not crossed india, i should not have saved her; she would not have been my wife, and—\"\n"
          ],
          "name": "stdout"
        }
      ]
    },
    {
      "cell_type": "code",
      "metadata": {
        "id": "MjdefgO50hfb"
      },
      "source": [],
      "execution_count": null,
      "outputs": []
    }
  ]
}